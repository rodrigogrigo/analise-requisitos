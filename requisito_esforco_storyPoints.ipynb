{
 "cells": [
  {
   "cell_type": "markdown",
   "metadata": {},
   "source": [
    "# Carregamento dos Datasets"
   ]
  },
  {
   "cell_type": "markdown",
   "metadata": {},
   "source": [
    "### Instalação dos pacotes necessários"
   ]
  },
  {
   "cell_type": "code",
   "execution_count": 50,
   "metadata": {},
   "outputs": [
    {
     "name": "stdout",
     "output_type": "stream",
     "text": [
      "Requirement already satisfied: gensim in d:\\mestrado\\python\\projeto\\myenv\\lib\\site-packages (4.3.3)\n",
      "Requirement already satisfied: smart-open>=1.8.1 in d:\\mestrado\\python\\projeto\\myenv\\lib\\site-packages (from gensim) (6.4.0)\n",
      "Requirement already satisfied: scipy<1.14.0,>=1.7.0 in d:\\mestrado\\python\\projeto\\myenv\\lib\\site-packages (from gensim) (1.13.0)\n",
      "Requirement already satisfied: numpy<2.0,>=1.18.5 in d:\\mestrado\\python\\projeto\\myenv\\lib\\site-packages (from gensim) (1.26.4)\n",
      "Note: you may need to restart the kernel to use updated packages.\n"
     ]
    },
    {
     "name": "stderr",
     "output_type": "stream",
     "text": [
      "WARNING: You are using pip version 20.2.3; however, version 24.2 is available.\n",
      "You should consider upgrading via the 'd:\\Mestrado\\Python\\Projeto\\myenv\\Scripts\\python.exe -m pip install --upgrade pip' command.\n"
     ]
    },
    {
     "name": "stdout",
     "output_type": "stream",
     "text": [
      "Requirement already satisfied: deslib in d:\\mestrado\\python\\projeto\\myenv\\lib\\site-packages (0.3.7)\n",
      "Requirement already satisfied: scipy>=1.4.0 in d:\\mestrado\\python\\projeto\\myenv\\lib\\site-packages (from deslib) (1.13.0)\n",
      "Requirement already satisfied: numpy>=1.17.0 in d:\\mestrado\\python\\projeto\\myenv\\lib\\site-packages (from deslib) (1.26.4)\n",
      "Requirement already satisfied: scikit-learn>=1.0.2 in d:\\mestrado\\python\\projeto\\myenv\\lib\\site-packages (from deslib) (1.4.2)\n",
      "Requirement already satisfied: joblib>=1.2.0 in d:\\mestrado\\python\\projeto\\myenv\\lib\\site-packages (from scikit-learn>=1.0.2->deslib) (1.4.2)\n",
      "Requirement already satisfied: threadpoolctl>=2.0.0 in d:\\mestrado\\python\\projeto\\myenv\\lib\\site-packages (from scikit-learn>=1.0.2->deslib) (3.5.0)\n",
      "Note: you may need to restart the kernel to use updated packages.\n"
     ]
    },
    {
     "name": "stderr",
     "output_type": "stream",
     "text": [
      "WARNING: You are using pip version 20.2.3; however, version 24.2 is available.\n",
      "You should consider upgrading via the 'd:\\Mestrado\\Python\\Projeto\\myenv\\Scripts\\python.exe -m pip install --upgrade pip' command.\n"
     ]
    },
    {
     "name": "stdout",
     "output_type": "stream",
     "text": [
      "Collecting desReg\n",
      "  Downloading DESReg-0.1.1-py3-none-any.whl (11 kB)\n",
      "Requirement already satisfied: scikit-learn>=1.2.1 in d:\\mestrado\\python\\projeto\\myenv\\lib\\site-packages (from desReg) (1.4.2)\n",
      "Requirement already satisfied: numpy>=1.21.5 in d:\\mestrado\\python\\projeto\\myenv\\lib\\site-packages (from desReg) (1.26.4)\n",
      "Requirement already satisfied: scipy>=1.5.2 in d:\\mestrado\\python\\projeto\\myenv\\lib\\site-packages (from desReg) (1.13.0)\n",
      "Requirement already satisfied: joblib>=1.2.0 in d:\\mestrado\\python\\projeto\\myenv\\lib\\site-packages (from scikit-learn>=1.2.1->desReg) (1.4.2)\n",
      "Requirement already satisfied: threadpoolctl>=2.0.0 in d:\\mestrado\\python\\projeto\\myenv\\lib\\site-packages (from scikit-learn>=1.2.1->desReg) (3.5.0)\n",
      "Installing collected packages: desReg\n",
      "Successfully installed desReg-0.1.1\n",
      "Note: you may need to restart the kernel to use updated packages.\n"
     ]
    },
    {
     "name": "stderr",
     "output_type": "stream",
     "text": [
      "WARNING: You are using pip version 20.2.3; however, version 24.2 is available.\n",
      "You should consider upgrading via the 'd:\\Mestrado\\Python\\Projeto\\myenv\\Scripts\\python.exe -m pip install --upgrade pip' command.\n"
     ]
    }
   ],
   "source": [
    "\n",
    "# Quando necessária a instalação, descompentar\n",
    "'''\n",
    "%pip install langdetect\n",
    "%pip install pandas\n",
    "%pip install spacy\n",
    "%pip install scikit-learn\n",
    "%pip install bs4\n",
    "%pip install nltk\n",
    "%pip install xgboost\n",
    "%pip install catboost\n",
    "%pip install transformers torch\n",
    "%pip install lightgbm\n",
    "%pip install contractions\n",
    "%pip install pyspellchecker\n",
    "%pip install gensim\n",
    "%pip install deslib\n",
    "%pip install desReg\n",
    "'''\n",
    "\n"
   ]
  },
  {
   "cell_type": "markdown",
   "metadata": {},
   "source": [
    "### Importação e reload da classe com os métodos que manipularão os Datasets"
   ]
  },
  {
   "cell_type": "code",
   "execution_count": 67,
   "metadata": {},
   "outputs": [
    {
     "name": "stderr",
     "output_type": "stream",
     "text": [
      "[nltk_data] Downloading package stopwords to\n",
      "[nltk_data]     C:\\Users\\rodri\\AppData\\Roaming\\nltk_data...\n",
      "[nltk_data]   Package stopwords is already up-to-date!\n"
     ]
    },
    {
     "data": {
      "text/plain": [
       "<module 'DatasetUtils' from 'd:\\\\Mestrado\\\\Python\\\\Projeto\\\\DatasetUtils.py'>"
      ]
     },
     "execution_count": 67,
     "metadata": {},
     "output_type": "execute_result"
    }
   ],
   "source": [
    "import DatasetUtils\n",
    "import importlib\n",
    "importlib.reload(DatasetUtils)"
   ]
  },
  {
   "cell_type": "markdown",
   "metadata": {},
   "source": [
    "### Importação dos datasets tratados (removendo duplicações e textos que não estejam em inglês)"
   ]
  },
  {
   "cell_type": "code",
   "execution_count": 66,
   "metadata": {},
   "outputs": [
    {
     "data": {
      "text/html": [
       "<div>\n",
       "<style scoped>\n",
       "    .dataframe tbody tr th:only-of-type {\n",
       "        vertical-align: middle;\n",
       "    }\n",
       "\n",
       "    .dataframe tbody tr th {\n",
       "        vertical-align: top;\n",
       "    }\n",
       "\n",
       "    .dataframe thead th {\n",
       "        text-align: right;\n",
       "    }\n",
       "</style>\n",
       "<table border=\"1\" class=\"dataframe\">\n",
       "  <thead>\n",
       "    <tr style=\"text-align: right;\">\n",
       "      <th></th>\n",
       "      <th>description</th>\n",
       "      <th>storypoint</th>\n",
       "      <th>issuekey</th>\n",
       "      <th>dataset_name</th>\n",
       "    </tr>\n",
       "  </thead>\n",
       "  <tbody>\n",
       "    <tr>\n",
       "      <th>2</th>\n",
       "      <td>Generic webwork aliases may clash with other p...</td>\n",
       "      <td>5</td>\n",
       "      <td>GHS-1681</td>\n",
       "      <td>jirasoftware.csv</td>\n",
       "    </tr>\n",
       "    <tr>\n",
       "      <th>4</th>\n",
       "      <td>Add text to the Agile Gadget \"Invalid Project\"...</td>\n",
       "      <td>2</td>\n",
       "      <td>GHS-1819</td>\n",
       "      <td>jirasoftware.csv</td>\n",
       "    </tr>\n",
       "    <tr>\n",
       "      <th>6</th>\n",
       "      <td>Greenhopper ranking field is not displayed cor...</td>\n",
       "      <td>20</td>\n",
       "      <td>GHS-1882</td>\n",
       "      <td>jirasoftware.csv</td>\n",
       "    </tr>\n",
       "    <tr>\n",
       "      <th>8</th>\n",
       "      <td>Version can be set in the create issue screen ...</td>\n",
       "      <td>5</td>\n",
       "      <td>GHS-2047</td>\n",
       "      <td>jirasoftware.csv</td>\n",
       "    </tr>\n",
       "    <tr>\n",
       "      <th>10</th>\n",
       "      <td>As a user I would like the ability to see a ho...</td>\n",
       "      <td>13</td>\n",
       "      <td>GHS-2478</td>\n",
       "      <td>jirasoftware.csv</td>\n",
       "    </tr>\n",
       "  </tbody>\n",
       "</table>\n",
       "</div>"
      ],
      "text/plain": [
       "                                          description  storypoint  issuekey  \\\n",
       "2   Generic webwork aliases may clash with other p...           5  GHS-1681   \n",
       "4   Add text to the Agile Gadget \"Invalid Project\"...           2  GHS-1819   \n",
       "6   Greenhopper ranking field is not displayed cor...          20  GHS-1882   \n",
       "8   Version can be set in the create issue screen ...           5  GHS-2047   \n",
       "10  As a user I would like the ability to see a ho...          13  GHS-2478   \n",
       "\n",
       "        dataset_name  \n",
       "2   jirasoftware.csv  \n",
       "4   jirasoftware.csv  \n",
       "6   jirasoftware.csv  \n",
       "8   jirasoftware.csv  \n",
       "10  jirasoftware.csv  "
      ]
     },
     "execution_count": 66,
     "metadata": {},
     "output_type": "execute_result"
    }
   ],
   "source": [
    "# Carrega as bases de dados em uma lista\n",
    "diretorio = 'D:\\\\Mestrado\\\\Python\\\\Projeto\\\\Datasets\\\\JIRA-Estimation-Prediction\\\\storypoint\\\\IEEE TSE2018\\\\dataset'\n",
    "datasetsCarregados = DatasetUtils.carregar_todos_dados(diretorio, False, 1000)\n",
    "\n",
    "datasetsCarregados[0].head()"
   ]
  },
  {
   "cell_type": "markdown",
   "metadata": {},
   "source": [
    "### Geração de estatítisticas de cada dataset"
   ]
  },
  {
   "cell_type": "code",
   "execution_count": 4,
   "metadata": {},
   "outputs": [
    {
     "name": "stdout",
     "output_type": "stream",
     "text": [
      "Base de Dados: jirasoftware.csv\n",
      "Total de Registros: 234\n",
      "Média de Palavras por Registro: 114.11\n",
      "Desvio Padrão de Palavras por Registro: 103.28\n",
      "Distribuição de Story Points (Fibonacci): {1: 25, 2: 51, 3: 54, 5: 60, 8: 28, 13: 10}\n",
      "\n",
      "\n"
     ]
    }
   ],
   "source": [
    "import spacy\n",
    "import numpy as np\n",
    "import pandas as pd\n",
    "from collections import Counter\n",
    "\n",
    "# Carregar o modelo de idioma inglês do Spacy\n",
    "nlp = spacy.load(\"en_core_web_sm\")\n",
    "\n",
    "# Função para contar o número de palavras em uma descrição usando spaCy\n",
    "def contar_palavras_spacy(text):\n",
    "    doc = nlp(text)\n",
    "    return len([token for token in doc if not token.is_punct and not token.is_space])\n",
    "\n",
    "# Sequência de Fibonacci para verificação dos story points\n",
    "fibonacci_sequence = [1, 2, 3, 5, 8, 13, 21]\n",
    "\n",
    "# Função para gerar as estatísticas da base\n",
    "def gerar_estatisticas_base(dados_filtrados):\n",
    "    # Nome da base de dados\n",
    "    nome_base = dados_filtrados['dataset_name'].iloc[0]\n",
    "    \n",
    "    # Total de registros\n",
    "    total_registros = len(dados_filtrados)\n",
    "\n",
    "    # Contagem de palavras por registro usando spaCy\n",
    "    contagem_palavras = dados_filtrados['description'].apply(contar_palavras_spacy)\n",
    "    media_palavras = np.mean(contagem_palavras)\n",
    "    desvio_palavras = np.std(contagem_palavras)\n",
    "    \n",
    "    # Distribuição de story points (somente para Fibonacci)\n",
    "    story_points = dados_filtrados['storypoint'].values\n",
    "    distribuicao_story_points = Counter(story_points)\n",
    "    distribuicao_fibonacci = {ponto: distribuicao_story_points[ponto] for ponto in fibonacci_sequence if ponto in distribuicao_story_points}\n",
    "\n",
    "    # Exibir as estatísticas\n",
    "    print(f\"Base de Dados: {nome_base}\")\n",
    "    print(f\"Total de Registros: {total_registros}\")\n",
    "    print(f\"Média de Palavras por Registro: {media_palavras:.2f}\")\n",
    "    print(f\"Desvio Padrão de Palavras por Registro: {desvio_palavras:.2f}\")\n",
    "    \n",
    "    # Verificar se existem valores da sequência de Fibonacci\n",
    "    if distribuicao_fibonacci:\n",
    "        print(f\"Distribuição de Story Points (Fibonacci): {distribuicao_fibonacci}\")\n",
    "    else:\n",
    "        print(\"Não há story points seguindo a sequência de Fibonacci.\")\n",
    "\n",
    "    print(\"\\n\")\n",
    "\n",
    "for dataset in datasetsCarregados:\n",
    "    gerar_estatisticas_base(dataset)\n"
   ]
  },
  {
   "cell_type": "markdown",
   "metadata": {},
   "source": [
    "# Versão 4\n",
    "Adicionado Voting Regressor: Um ensemble que combina os modelos com votação.\n",
    "Adicionado Bagging Regressor: Aplicado sobre o SVR para reduzir a variância.\n",
    "Substituído GridSearch por RandomizedSearch: Para melhorar o desempenho e reduzir o tempo de execução.\n",
    "Hiperparâmetros Ajustáveis: Usando RandomizedSearchCV com 10 iterações para testar diferentes combinações de hiperparâmetros."
   ]
  },
  {
   "cell_type": "markdown",
   "metadata": {},
   "source": [
    "### Processamento dos datasets"
   ]
  },
  {
   "cell_type": "code",
   "execution_count": 68,
   "metadata": {},
   "outputs": [
    {
     "name": "stderr",
     "output_type": "stream",
     "text": [
      "Processando Descrição:  12%|█▏        | 28/234 [00:00<00:03, 55.95it/s]d:\\Mestrado\\Python\\Projeto\\DatasetUtils.py:166: MarkupResemblesLocatorWarning: The input looks more like a filename than markup. You may want to open this file and pass the filehandle into Beautiful Soup.\n",
      "  descricao_limpa, 'html.parser').get_text()\n",
      "Processando Descrição: 100%|██████████| 234/234 [00:05<00:00, 40.08it/s]\n"
     ]
    }
   ],
   "source": [
    "datasets = datasetsCarregados\n",
    "datasets[0].head()\n",
    "# Inicia o processamento dos datasets da lista, tratando o texto de cada um deles\n",
    "datasets = DatasetUtils.preprocessar_todos_datasets(datasets)\n"
   ]
  },
  {
   "cell_type": "markdown",
   "metadata": {},
   "source": [
    "### Análise e Remoção de outliers"
   ]
  },
  {
   "cell_type": "code",
   "execution_count": 69,
   "metadata": {},
   "outputs": [],
   "source": [
    "# Analisa a necessidade de tratamento de outliers\n",
    "DatasetUtils.analisar_datasets(datasets)"
   ]
  },
  {
   "cell_type": "code",
   "execution_count": 70,
   "metadata": {},
   "outputs": [],
   "source": [
    "# Remove outliers e retorna todos os datasets tratados\n",
    "#datasets_sem_outliers = DatasetUtils.remover_outliers_e_filtrar(datasets)\n",
    "datasets_sem_outliers = datasets"
   ]
  },
  {
   "cell_type": "markdown",
   "metadata": {},
   "source": [
    "### Avaliação dos datasets utilizando vários modelos"
   ]
  },
  {
   "cell_type": "code",
   "execution_count": null,
   "metadata": {},
   "outputs": [],
   "source": [
    "# Executa o método que realiza o treinamento e teste encima dos datasets, utilizando diversos modelos'\n",
    "resultados_finais, predicoes_por_modelo = DatasetUtils.avaliar_modelosCombinados_em_datasets(datasets_sem_outliers, \"V4\")\n",
    "\n",
    "# Mostrar os resultados\n",
    "print(\"\\nResultados Completos:\")\n",
    "resultados_finais.head()"
   ]
  },
  {
   "cell_type": "markdown",
   "metadata": {},
   "source": [
    "### Geração de relatórios"
   ]
  },
  {
   "cell_type": "code",
   "execution_count": null,
   "metadata": {},
   "outputs": [],
   "source": [
    "# Gerar gráficos para cada modelo\n",
    "# for model_name, data in predicoes_por_modelo.items():\n",
    "#    DatasetUtils.gerar_grafico_valores_reais_vs_estimados(data['y_test'], data['y_pred'], model_name)"
   ]
  },
  {
   "cell_type": "code",
   "execution_count": 78,
   "metadata": {},
   "outputs": [
    {
     "name": "stdout",
     "output_type": "stream",
     "text": [
      "Predições exportadas para 'predicoes_por_modelo.csv'\n"
     ]
    }
   ],
   "source": [
    "# Lista para armazenar os dados\n",
    "predicoes_lista = []\n",
    "\n",
    "for model_name, data in predicoes_por_modelo.items():\n",
    "    for issuekey, description, y_test, y_pred in zip(data['issuekeys'], data['descriptions'], data['y_test'], data['y_pred']):\n",
    "        predicoes_lista.append({\n",
    "            'Modelo': model_name,\n",
    "            'IssueKey': issuekey,\n",
    "            'Descrição': description,\n",
    "            'Valor Real': y_test,\n",
    "            'Valor Predito': y_pred\n",
    "        })\n",
    "\n",
    "# Converter a lista em um DataFrame do pandas\n",
    "df_predicoes = pd.DataFrame(predicoes_lista)\n",
    "\n",
    "# Exportar para CSV\n",
    "df_predicoes.to_csv('predicoes_por_modelo.csv', index=False)\n",
    "\n",
    "print(\"Predições exportadas para 'predicoes_por_modelo.csv'\")"
   ]
  },
  {
   "cell_type": "code",
   "execution_count": 74,
   "metadata": {},
   "outputs": [],
   "source": [
    "# Exportar os resultados para um arquivo CSV\n",
    "DatasetUtils.exportar_resultados_para_csv(resultados_finais, 'resultados_modelos.csv')"
   ]
  }
 ],
 "metadata": {
  "kernelspec": {
   "display_name": "myenv",
   "language": "python",
   "name": "python3"
  },
  "language_info": {
   "codemirror_mode": {
    "name": "ipython",
    "version": 3
   },
   "file_extension": ".py",
   "mimetype": "text/x-python",
   "name": "python",
   "nbconvert_exporter": "python",
   "pygments_lexer": "ipython3",
   "version": "3.9.1"
  }
 },
 "nbformat": 4,
 "nbformat_minor": 2
}

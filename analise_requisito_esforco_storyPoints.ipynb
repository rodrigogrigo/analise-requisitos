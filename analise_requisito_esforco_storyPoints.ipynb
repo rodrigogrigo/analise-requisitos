{
 "cells": [
  {
   "cell_type": "markdown",
   "id": "36bd0768",
   "metadata": {},
   "source": [
    "\n",
    "# Notebook: Requisito Esforço e Estimativa de Story Points\n",
    "\n",
    "## 1. Introdução\n",
    "Neste notebook, abordamos a estimativa de Story Points a partir de descrições textuais\n",
    "utilizando modelos baseados em NLP, incluindo BERT e outros modelos de ensemble.\n",
    "A avaliação de desempenho é realizada utilizando métricas como MAE, R², RMSE e a correlação de Pearson.\n",
    "\n",
    "## Principais Passos\n",
    "- Preparação e pré-processamento dos dados.\n",
    "- Treinamento de múltiplos modelos, incluindo ensemble.\n",
    "- Avaliação dos modelos e comparação dos resultados.\n"
   ]
  },
  {
   "cell_type": "markdown",
   "id": "95828955",
   "metadata": {},
   "source": [
    "## 2. Importações e Configurações"
   ]
  },
  {
   "cell_type": "code",
   "execution_count": null,
   "id": "6f84f985",
   "metadata": {},
   "outputs": [],
   "source": [
    "pip install optuna langdetect pandas spacy beautifulsoup4 nltk catboost transformers torch lightgbm contractions pyspellchecker gensim deslib desReg numpy scipy\n",
    "\n",
    "# Removendo diretórios (caso existam)\n",
    "rmdir /s /q results 2>nul\n",
    "rmdir /s /q checkpoints 2>nul\n",
    "\n",
    "# Instalar diretamente as versões corretas de scikit-learn e xgboost\n",
    "pip install --force-reinstall scikit-learn==1.5.2 xgboost==2.1.3"
   ]
  },
  {
   "cell_type": "code",
   "execution_count": null,
   "id": "fe55fa7b",
   "metadata": {},
   "outputs": [],
   "source": [
    "\n",
    "# Importações de fontes\n",
    "import importlib\n",
    "import preprocessing\n",
    "import bert_evaluation\n",
    "import ensemble_models\n",
    "\n",
    "importlib.reload(preprocessing)\n",
    "importlib.reload(bert_evaluation)\n",
    "importlib.reload(ensemble_models)"
   ]
  },
  {
   "cell_type": "code",
   "execution_count": null,
   "id": "e70eb7c2",
   "metadata": {},
   "outputs": [],
   "source": [
    "# Definição de Constantes Globais\n",
    "LIMITAR_QUANTIDADE_REGISTROS = False\n",
    "QUANTIDADE_REGISTROS_SE_LIMITADO = 15\n",
    "DIRETORIO_DATASET_BRUTO = '/content/drive/MyDrive/projetoMestrado/datasets'\n",
    "DIRETORIO_DATASET_PROCESSADO = '/content/drive/MyDrive/projetoMestrado/datasets_processados'\n",
    "NOME_ARQUIVO_RESULTADOS = '/content/drive/MyDrive/projetoMestrado/resultados_modelos.csv'\n",
    "NOME_ARQUIVO_RESULTADOS_ENTRE_DATASETS = '/content/drive/MyDrive/projetoMestrado/resultados_modelos_ENTRE_DATASETS.csv'\n",
    "NOME_ARQUIVO_RESULTADOS_MESMO_DATASET = '/content/drive/MyDrive/projetoMestrado/resultados_modelos_MESMO_DATASET.csv'\n",
    "NOME_ARQUIVO_BERT_RESULTADOS_ENTRE_DATASETS = '/content/drive/MyDrive/projetoMestrado/resultados_BERT_modelos_ENTRE_DATASETS.csv'\n",
    "NOME_ARQUIVO_BERT_RESULTADOS_MESMO_DATASET = '/content/drive/MyDrive/projetoMestrado/resultados_BERT_modelos_MESMO_DATASET.csv'"
   ]
  },
  {
   "cell_type": "markdown",
   "id": "4403a5f8",
   "metadata": {},
   "source": [
    "## 3. Carregamento e Pré-Processamento dos Dados"
   ]
  },
  {
   "cell_type": "code",
   "execution_count": null,
   "id": "f71ef4c1",
   "metadata": {},
   "outputs": [],
   "source": [
    "# Carregar os datasets\n",
    "datasetsComuns, datasetsBert = preprocessing.carregar_todos_dados(\n",
    "    DIRETORIO_DATASET_BRUTO, DIRETORIO_DATASET_PROCESSADO, LIMITAR_QUANTIDADE_REGISTROS, QUANTIDADE_REGISTROS_SE_LIMITADO\n",
    ")"
   ]
  },
  {
   "cell_type": "markdown",
   "id": "a7868522",
   "metadata": {},
   "source": [
    "## 4. Treinamento e Avaliação dos Modelos BERT"
   ]
  },
  {
   "cell_type": "code",
   "execution_count": null,
   "id": "da200d82",
   "metadata": {},
   "outputs": [],
   "source": [
    "resultados_finais, predicoes_por_modelo = bert_evaluation.avaliar_modelo_bert_em_datasets_ciclico(\n",
    "    datasetsBert, \"V_BERT\", NOME_ARQUIVO_BERT_RESULTADOS_ENTRE_DATASETS\n",
    ")"
   ]
  },
  {
   "cell_type": "code",
   "execution_count": null,
   "id": "156212d3",
   "metadata": {},
   "outputs": [],
   "source": [
    "resultados_finais, predicoes_por_modelo = bert_evaluation.avaliar_modelo_bert_em_datasets(\n",
    "    datasetsBert, \"V_BERT\", NOME_ARQUIVO_BERT_RESULTADOS_MESMO_DATASET\n",
    ")"
   ]
  },
  {
   "cell_type": "markdown",
   "id": "98402e31",
   "metadata": {},
   "source": [
    "## 5. Treinamento e Avaliação de Modelos de Tradicionais"
   ]
  },
  {
   "cell_type": "code",
   "execution_count": null,
   "id": "c80785be",
   "metadata": {},
   "outputs": [],
   "source": [
    "resultados_finais = ensemble_models.avaliar_modelos_em_datasets_ciclico(\n",
    "    datasetsComuns, \"V_ENSEMBLE\", NOME_ARQUIVO_RESULTADOS_ENTRE_DATASETS)"
   ]
  },
  {
   "cell_type": "code",
   "execution_count": null,
   "id": "d8e79839",
   "metadata": {},
   "outputs": [],
   "source": [
    "resultados_finais = ensemble_models.avaliar_modelos_em_datasets(\n",
    "    datasetsComuns, \"V_ENSEMBLE\", NOME_ARQUIVO_RESULTADOS_MESMO_DATASET)"
   ]
  }
 ],
 "metadata": {
  "kernelspec": {
   "display_name": "myenv",
   "language": "python",
   "name": "python3"
  },
  "language_info": {
   "codemirror_mode": {
    "name": "ipython",
    "version": 3
   },
   "file_extension": ".py",
   "mimetype": "text/x-python",
   "name": "python",
   "nbconvert_exporter": "python",
   "pygments_lexer": "ipython3",
   "version": "3.9.1"
  }
 },
 "nbformat": 4,
 "nbformat_minor": 5
}

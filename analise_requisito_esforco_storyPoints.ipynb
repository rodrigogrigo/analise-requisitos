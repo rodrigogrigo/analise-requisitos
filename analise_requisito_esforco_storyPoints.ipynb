{
 "cells": [
  {
   "cell_type": "markdown",
   "id": "36bd0768",
   "metadata": {},
   "source": [
    "\n",
    "# Notebook: Requisito Esforço e Estimativa de Story Points\n",
    "\n",
    "## 1. Introdução\n",
    "Neste notebook, abordamos a estimativa de Story Points a partir de descrições textuais\n",
    "utilizando modelos baseados em NLP, incluindo BERT e outros modelos de ensemble.\n",
    "A avaliação de desempenho é realizada utilizando métricas como MAE, R², RMSE e a correlação de Pearson.\n",
    "\n",
    "## Principais Passos\n",
    "- Preparação e pré-processamento dos dados.\n",
    "- Treinamento de múltiplos modelos, incluindo ensemble.\n",
    "- Avaliação dos modelos e comparação dos resultados.\n"
   ]
  },
  {
   "cell_type": "markdown",
   "id": "95828955",
   "metadata": {},
   "source": [
    "## 2. Importações e Configurações"
   ]
  },
  {
   "cell_type": "code",
   "execution_count": null,
   "id": "6f84f985",
   "metadata": {},
   "outputs": [],
   "source": [
    "'''\n",
    "%pip install langdetect\n",
    "%pip install pandas\n",
    "%pip install spacy\n",
    "%pip install scikit-learn\n",
    "%pip install bs4\n",
    "%pip install nltk\n",
    "%pip install xgboost\n",
    "%pip install catboost\n",
    "%pip install transformers torch\n",
    "%pip install lightgbm\n",
    "%pip install contractions\n",
    "%pip install pyspellchecker\n",
    "%pip install gensim\n",
    "%pip install deslib\n",
    "%pip install desReg\n",
    "%pip install numpy\n",
    "%pip install scipy\n",
    "%pip install transformers[torch]\n",
    "'''"
   ]
  },
  {
   "cell_type": "code",
   "execution_count": null,
   "id": "fe55fa7b",
   "metadata": {},
   "outputs": [],
   "source": [
    "\n",
    "# Importações das Bibliotecas\n",
    "import importlib\n",
    "import preprocessing\n",
    "import bert_evaluation\n",
    "import ensemble_models\n",
    "\n",
    "importlib.reload(preprocessing)\n",
    "importlib.reload(bert_evaluation)\n",
    "importlib.reload(ensemble_models)\n",
    "\n",
    "# Definição de Constantes Globais\n",
    "VERSAO_NOME_BERT = \"V_BERT\"\n",
    "VERSAO_NOME_ENSEMBLE = \"V_ENSEMBLE\"\n",
    "DIRETORIO_DATASETS = 'D:\\\\Mestrado\\\\Python\\\\Projeto\\\\Datasets\\\\JIRA-Estimation-Prediction\\\\storypoint\\\\IEEE TSE2018\\\\dataset'\n",
    "LIMITAR_QUANTIDADE_REGISTROS = False\n",
    "QUANTIDADE_REGISTROS_SE_LIMITADO = 15\n",
    "NOME_ARQUIVO_RESULTADOS = 'resultados_modelos.csv'\n"
   ]
  },
  {
   "cell_type": "markdown",
   "id": "4403a5f8",
   "metadata": {},
   "source": [
    "## 3. Carregamento e Pré-Processamento dos Dados"
   ]
  },
  {
   "cell_type": "code",
   "execution_count": null,
   "id": "f71ef4c1",
   "metadata": {},
   "outputs": [],
   "source": [
    "\n",
    "# Carrega as bases de dados em uma lista\n",
    "datasetsCarregados = preprocessing.carregar_todos_dados(DIRETORIO_DATASETS, LIMITAR_QUANTIDADE_REGISTROS, QUANTIDADE_REGISTROS_SE_LIMITADO)\n",
    "\n",
    "# Geração de estatísticas do dataset\n",
    "for dataset in datasetsCarregados:\n",
    "    preprocessing.gerar_estatisticas_base(dataset)\n",
    "\n",
    "# Inicia o processamento dos datasets da lista, tratando o texto de cada um deles\n",
    "# datasetsCarregados = preprocessing.preprocessar_todos_datasets(datasetsCarregados)\n",
    "#datasetsCarregados[0].head()\n"
   ]
  },
  {
   "cell_type": "markdown",
   "id": "a7868522",
   "metadata": {},
   "source": [
    "## 4. Treinamento e Avaliação dos Modelos BERT"
   ]
  },
  {
   "cell_type": "code",
   "execution_count": null,
   "id": "21675284",
   "metadata": {},
   "outputs": [],
   "source": [
    "# Executa a Avaliação dos Modelos BERT e Similar\n",
    "datasets = datasetsCarregados\n",
    "\n",
    "# Executa o método que realiza o treinamento e teste encima dos datasets, utilizando diversos modelos'\n",
    "resultados_finais, predicoes_por_modelo = bert_evaluation.avaliar_modelo_bert_em_datasets(datasets, VERSAO_NOME_BERT)\n"
   ]
  },
  {
   "cell_type": "code",
   "execution_count": null,
   "id": "8919ee78",
   "metadata": {},
   "outputs": [],
   "source": [
    "## Lista para armazenar os dados\n",
    "#predicoes_lista = []\n",
    "\n",
    "#for model_name, data in predicoes_por_modelo.items():\n",
    "#    for issuekey, description, y_test, y_pred in zip(data['issuekeys'], data['descriptions'], data['y_test'], data['y_pred']):\n",
    "#        predicoes_lista.append({\n",
    "#            'Modelo': model_name,\n",
    "#            'IssueKey': issuekey,\n",
    "#            'Descrição': description,\n",
    "#            'Valor Real': y_test,\n",
    "#            'Valor Predito': y_pred\n",
    "#        })\n",
    "\n",
    "## Converter a lista em um DataFrame do pandas\n",
    "#df_predicoes = pd.DataFrame(predicoes_lista)\n",
    "\n",
    "## Exportar para CSV\n",
    "#df_predicoes.to_csv('predicoes_por_modelo.csv', index=False)\n",
    "\n",
    "#print(\"Predições exportadas para 'predicoes_por_modelo.csv'\")"
   ]
  },
  {
   "cell_type": "code",
   "execution_count": null,
   "id": "da200d82",
   "metadata": {},
   "outputs": [],
   "source": [
    "# Exportar os resultados para um arquivo CSV\n",
    "preprocessing.exportar_resultados_para_csv(resultados_finais, NOME_ARQUIVO_RESULTADOS)"
   ]
  },
  {
   "cell_type": "markdown",
   "id": "98402e31",
   "metadata": {},
   "source": [
    "## 5. Treinamento e Avaliação de Modelos de Ensemble"
   ]
  },
  {
   "cell_type": "code",
   "execution_count": null,
   "id": "c80785be",
   "metadata": {},
   "outputs": [],
   "source": [
    "\n",
    "# Executa a Avaliação dos Modelos BERT e Similar\n",
    "datasets = datasetsCarregados\n",
    "\n",
    "# Executa o método que realiza o treinamento e teste encima dos datasets, utilizando diversos modelos'\n",
    "resultados_finais, predicoes_por_modelo = ensemble_models.avaliar_modelosCombinados_em_datasets(datasets, VERSAO_NOME_BERT)\n",
    "\n"
   ]
  },
  {
   "cell_type": "code",
   "execution_count": null,
   "id": "97404772",
   "metadata": {},
   "outputs": [],
   "source": [
    "## Lista para armazenar os dados\n",
    "#predicoes_lista = []\n",
    "\n",
    "#for model_name, data in predicoes_por_modelo.items():\n",
    "#    for issuekey, description, y_test, y_pred in zip(data['issuekeys'], data['descriptions'], data['y_test'], data['y_pred']):\n",
    "#        predicoes_lista.append({\n",
    "#            'Modelo': model_name,\n",
    "#            'IssueKey': issuekey,\n",
    "#            'Descrição': description,\n",
    "#            'Valor Real': y_test,\n",
    "#            'Valor Predito': y_pred\n",
    "#        })\n",
    "\n",
    "## Converter a lista em um DataFrame do pandas\n",
    "#df_predicoes = pd.DataFrame(predicoes_lista)\n",
    "\n",
    "## Exportar para CSV\n",
    "#df_predicoes.to_csv('predicoes_por_modelo.csv', index=False)\n",
    "\n",
    "#print(\"Predições exportadas para 'predicoes_por_modelo.csv'\")"
   ]
  },
  {
   "cell_type": "code",
   "execution_count": null,
   "id": "c1214064",
   "metadata": {},
   "outputs": [],
   "source": [
    "# Exportar os resultados para um arquivo CSV\n",
    "preprocessing.exportar_resultados_para_csv(resultados_finais, NOME_ARQUIVO_RESULTADOS)"
   ]
  },
  {
   "cell_type": "markdown",
   "id": "49708924",
   "metadata": {},
   "source": [
    "## 6. Conclusões"
   ]
  },
  {
   "cell_type": "markdown",
   "id": "6b59f66d",
   "metadata": {},
   "source": [
    "\n",
    "Nesta seção, discutimos os resultados obtidos com cada modelo. Observa-se que:\n",
    "- [Inclua observações sobre o desempenho dos modelos, pontos fortes e limitações.]\n",
    "- [Sugira possíveis próximos passos, como otimizações adicionais ou experimentos com novos dados.]\n"
   ]
  }
 ],
 "metadata": {
  "kernelspec": {
   "display_name": "myenv",
   "language": "python",
   "name": "python3"
  },
  "language_info": {
   "codemirror_mode": {
    "name": "ipython",
    "version": 3
   },
   "file_extension": ".py",
   "mimetype": "text/x-python",
   "name": "python",
   "nbconvert_exporter": "python",
   "pygments_lexer": "ipython3",
   "version": "3.9.1"
  }
 },
 "nbformat": 4,
 "nbformat_minor": 5
}

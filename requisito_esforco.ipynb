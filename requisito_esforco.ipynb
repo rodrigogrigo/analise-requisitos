{
 "cells": [
  {
   "cell_type": "code",
   "execution_count": 11,
   "metadata": {},
   "outputs": [
    {
     "name": "stdout",
     "output_type": "stream",
     "text": [
      "Requirement already satisfied: langdetect in d:\\mestrado\\python\\projeto\\myenv\\lib\\site-packages (1.0.9)\n",
      "Requirement already satisfied: six in d:\\mestrado\\python\\projeto\\myenv\\lib\\site-packages (from langdetect) (1.16.0)\n",
      "Note: you may need to restart the kernel to use updated packages.\n"
     ]
    },
    {
     "name": "stderr",
     "output_type": "stream",
     "text": [
      "WARNING: You are using pip version 20.2.3; however, version 24.0 is available.\n",
      "You should consider upgrading via the 'd:\\Mestrado\\Python\\Projeto\\myenv\\Scripts\\python.exe -m pip install --upgrade pip' command.\n"
     ]
    },
    {
     "name": "stdout",
     "output_type": "stream",
     "text": [
      "Requirement already satisfied: pandas in d:\\mestrado\\python\\projeto\\myenv\\lib\\site-packages (2.2.2)\n",
      "Requirement already satisfied: tzdata>=2022.7 in d:\\mestrado\\python\\projeto\\myenv\\lib\\site-packages (from pandas) (2024.1)\n",
      "Requirement already satisfied: pytz>=2020.1 in d:\\mestrado\\python\\projeto\\myenv\\lib\\site-packages (from pandas) (2024.1)\n",
      "Requirement already satisfied: python-dateutil>=2.8.2 in d:\\mestrado\\python\\projeto\\myenv\\lib\\site-packages (from pandas) (2.9.0.post0)\n",
      "Requirement already satisfied: numpy>=1.22.4; python_version < \"3.11\" in d:\\mestrado\\python\\projeto\\myenv\\lib\\site-packages (from pandas) (1.26.4)\n",
      "Requirement already satisfied: six>=1.5 in d:\\mestrado\\python\\projeto\\myenv\\lib\\site-packages (from python-dateutil>=2.8.2->pandas) (1.16.0)\n",
      "Note: you may need to restart the kernel to use updated packages.\n"
     ]
    },
    {
     "name": "stderr",
     "output_type": "stream",
     "text": [
      "WARNING: You are using pip version 20.2.3; however, version 24.0 is available.\n",
      "You should consider upgrading via the 'd:\\Mestrado\\Python\\Projeto\\myenv\\Scripts\\python.exe -m pip install --upgrade pip' command.\n"
     ]
    },
    {
     "name": "stdout",
     "output_type": "stream",
     "text": [
      "Requirement already satisfied: spacy in d:\\mestrado\\python\\projeto\\myenv\\lib\\site-packages (3.7.4)\n",
      "Requirement already satisfied: numpy>=1.19.0; python_version >= \"3.9\" in d:\\mestrado\\python\\projeto\\myenv\\lib\\site-packages (from spacy) (1.26.4)\n",
      "Requirement already satisfied: wasabi<1.2.0,>=0.9.1 in d:\\mestrado\\python\\projeto\\myenv\\lib\\site-packages (from spacy) (1.1.2)\n",
      "Requirement already satisfied: cymem<2.1.0,>=2.0.2 in d:\\mestrado\\python\\projeto\\myenv\\lib\\site-packages (from spacy) (2.0.8)\n",
      "Requirement already satisfied: spacy-loggers<2.0.0,>=1.0.0 in d:\\mestrado\\python\\projeto\\myenv\\lib\\site-packages (from spacy) (1.0.5)\n",
      "Requirement already satisfied: packaging>=20.0 in d:\\mestrado\\python\\projeto\\myenv\\lib\\site-packages (from spacy) (24.0)\n",
      "Requirement already satisfied: thinc<8.3.0,>=8.2.2 in d:\\mestrado\\python\\projeto\\myenv\\lib\\site-packages (from spacy) (8.2.3)\n",
      "Requirement already satisfied: srsly<3.0.0,>=2.4.3 in d:\\mestrado\\python\\projeto\\myenv\\lib\\site-packages (from spacy) (2.4.8)\n",
      "Requirement already satisfied: jinja2 in d:\\mestrado\\python\\projeto\\myenv\\lib\\site-packages (from spacy) (3.1.3)\n",
      "Requirement already satisfied: tqdm<5.0.0,>=4.38.0 in d:\\mestrado\\python\\projeto\\myenv\\lib\\site-packages (from spacy) (4.66.2)\n",
      "Requirement already satisfied: catalogue<2.1.0,>=2.0.6 in d:\\mestrado\\python\\projeto\\myenv\\lib\\site-packages (from spacy) (2.0.10)\n",
      "Requirement already satisfied: pydantic!=1.8,!=1.8.1,<3.0.0,>=1.7.4 in d:\\mestrado\\python\\projeto\\myenv\\lib\\site-packages (from spacy) (2.7.0)\n",
      "Requirement already satisfied: setuptools in d:\\mestrado\\python\\projeto\\myenv\\lib\\site-packages (from spacy) (49.2.1)\n",
      "Requirement already satisfied: murmurhash<1.1.0,>=0.28.0 in d:\\mestrado\\python\\projeto\\myenv\\lib\\site-packages (from spacy) (1.0.10)\n",
      "Requirement already satisfied: spacy-legacy<3.1.0,>=3.0.11 in d:\\mestrado\\python\\projeto\\myenv\\lib\\site-packages (from spacy) (3.0.12)\n",
      "Requirement already satisfied: smart-open<7.0.0,>=5.2.1 in d:\\mestrado\\python\\projeto\\myenv\\lib\\site-packages (from spacy) (6.4.0)\n",
      "Requirement already satisfied: preshed<3.1.0,>=3.0.2 in d:\\mestrado\\python\\projeto\\myenv\\lib\\site-packages (from spacy) (3.0.9)\n",
      "Requirement already satisfied: langcodes<4.0.0,>=3.2.0 in d:\\mestrado\\python\\projeto\\myenv\\lib\\site-packages (from spacy) (3.3.0)\n",
      "Requirement already satisfied: typer<0.10.0,>=0.3.0 in d:\\mestrado\\python\\projeto\\myenv\\lib\\site-packages (from spacy) (0.9.4)\n",
      "Requirement already satisfied: requests<3.0.0,>=2.13.0 in d:\\mestrado\\python\\projeto\\myenv\\lib\\site-packages (from spacy) (2.31.0)\n",
      "Requirement already satisfied: weasel<0.4.0,>=0.1.0 in d:\\mestrado\\python\\projeto\\myenv\\lib\\site-packages (from spacy) (0.3.4)\n",
      "Requirement already satisfied: colorama>=0.4.6; sys_platform == \"win32\" and python_version >= \"3.7\" in d:\\mestrado\\python\\projeto\\myenv\\lib\\site-packages (from wasabi<1.2.0,>=0.9.1->spacy) (0.4.6)\n",
      "Requirement already satisfied: confection<1.0.0,>=0.0.1 in d:\\mestrado\\python\\projeto\\myenv\\lib\\site-packages (from thinc<8.3.0,>=8.2.2->spacy) (0.1.4)\n",
      "Requirement already satisfied: blis<0.8.0,>=0.7.8 in d:\\mestrado\\python\\projeto\\myenv\\lib\\site-packages (from thinc<8.3.0,>=8.2.2->spacy) (0.7.11)\n",
      "Requirement already satisfied: MarkupSafe>=2.0 in d:\\mestrado\\python\\projeto\\myenv\\lib\\site-packages (from jinja2->spacy) (2.1.5)\n",
      "Requirement already satisfied: typing-extensions>=4.6.1 in d:\\mestrado\\python\\projeto\\myenv\\lib\\site-packages (from pydantic!=1.8,!=1.8.1,<3.0.0,>=1.7.4->spacy) (4.11.0)\n",
      "Requirement already satisfied: annotated-types>=0.4.0 in d:\\mestrado\\python\\projeto\\myenv\\lib\\site-packages (from pydantic!=1.8,!=1.8.1,<3.0.0,>=1.7.4->spacy) (0.6.0)\n",
      "Requirement already satisfied: pydantic-core==2.18.1 in d:\\mestrado\\python\\projeto\\myenv\\lib\\site-packages (from pydantic!=1.8,!=1.8.1,<3.0.0,>=1.7.4->spacy) (2.18.1)\n",
      "Requirement already satisfied: click<9.0.0,>=7.1.1 in d:\\mestrado\\python\\projeto\\myenv\\lib\\site-packages (from typer<0.10.0,>=0.3.0->spacy) (8.1.7)\n",
      "Requirement already satisfied: certifi>=2017.4.17 in d:\\mestrado\\python\\projeto\\myenv\\lib\\site-packages (from requests<3.0.0,>=2.13.0->spacy) (2024.2.2)\n",
      "Requirement already satisfied: urllib3<3,>=1.21.1 in d:\\mestrado\\python\\projeto\\myenv\\lib\\site-packages (from requests<3.0.0,>=2.13.0->spacy) (2.2.1)\n",
      "Requirement already satisfied: idna<4,>=2.5 in d:\\mestrado\\python\\projeto\\myenv\\lib\\site-packages (from requests<3.0.0,>=2.13.0->spacy) (3.7)\n",
      "Requirement already satisfied: charset-normalizer<4,>=2 in d:\\mestrado\\python\\projeto\\myenv\\lib\\site-packages (from requests<3.0.0,>=2.13.0->spacy) (3.3.2)\n",
      "Requirement already satisfied: cloudpathlib<0.17.0,>=0.7.0 in d:\\mestrado\\python\\projeto\\myenv\\lib\\site-packages (from weasel<0.4.0,>=0.1.0->spacy) (0.16.0)\n",
      "Note: you may need to restart the kernel to use updated packages.\n"
     ]
    },
    {
     "name": "stderr",
     "output_type": "stream",
     "text": [
      "WARNING: You are using pip version 20.2.3; however, version 24.0 is available.\n",
      "You should consider upgrading via the 'd:\\Mestrado\\Python\\Projeto\\myenv\\Scripts\\python.exe -m pip install --upgrade pip' command.\n"
     ]
    },
    {
     "name": "stdout",
     "output_type": "stream",
     "text": [
      "Requirement already satisfied: scikit-learn in d:\\mestrado\\python\\projeto\\myenv\\lib\\site-packages (1.4.2)\n",
      "Requirement already satisfied: joblib>=1.2.0 in d:\\mestrado\\python\\projeto\\myenv\\lib\\site-packages (from scikit-learn) (1.4.2)\n",
      "Requirement already satisfied: numpy>=1.19.5 in d:\\mestrado\\python\\projeto\\myenv\\lib\\site-packages (from scikit-learn) (1.26.4)\n",
      "Requirement already satisfied: threadpoolctl>=2.0.0 in d:\\mestrado\\python\\projeto\\myenv\\lib\\site-packages (from scikit-learn) (3.5.0)\n",
      "Requirement already satisfied: scipy>=1.6.0 in d:\\mestrado\\python\\projeto\\myenv\\lib\\site-packages (from scikit-learn) (1.13.0)\n",
      "Note: you may need to restart the kernel to use updated packages.\n"
     ]
    },
    {
     "name": "stderr",
     "output_type": "stream",
     "text": [
      "WARNING: You are using pip version 20.2.3; however, version 24.0 is available.\n",
      "You should consider upgrading via the 'd:\\Mestrado\\Python\\Projeto\\myenv\\Scripts\\python.exe -m pip install --upgrade pip' command.\n"
     ]
    },
    {
     "name": "stdout",
     "output_type": "stream",
     "text": [
      "Requirement already satisfied: bs4 in d:\\mestrado\\python\\projeto\\myenv\\lib\\site-packages (0.0.2)\n",
      "Requirement already satisfied: beautifulsoup4 in d:\\mestrado\\python\\projeto\\myenv\\lib\\site-packages (from bs4) (4.12.3)\n",
      "Requirement already satisfied: soupsieve>1.2 in d:\\mestrado\\python\\projeto\\myenv\\lib\\site-packages (from beautifulsoup4->bs4) (2.5)\n",
      "Note: you may need to restart the kernel to use updated packages.\n"
     ]
    },
    {
     "name": "stderr",
     "output_type": "stream",
     "text": [
      "WARNING: You are using pip version 20.2.3; however, version 24.0 is available.\n",
      "You should consider upgrading via the 'd:\\Mestrado\\Python\\Projeto\\myenv\\Scripts\\python.exe -m pip install --upgrade pip' command.\n"
     ]
    },
    {
     "name": "stdout",
     "output_type": "stream",
     "text": [
      "Collecting nltk\n",
      "  Downloading nltk-3.8.1-py3-none-any.whl (1.5 MB)\n",
      "Requirement already satisfied: tqdm in d:\\mestrado\\python\\projeto\\myenv\\lib\\site-packages (from nltk) (4.66.2)\n",
      "Collecting regex>=2021.8.3\n",
      "  Downloading regex-2024.5.15-cp39-cp39-win_amd64.whl (269 kB)\n",
      "Requirement already satisfied: joblib in d:\\mestrado\\python\\projeto\\myenv\\lib\\site-packages (from nltk) (1.4.2)\n",
      "Requirement already satisfied: click in d:\\mestrado\\python\\projeto\\myenv\\lib\\site-packages (from nltk) (8.1.7)\n",
      "Requirement already satisfied: colorama; platform_system == \"Windows\" in d:\\mestrado\\python\\projeto\\myenv\\lib\\site-packages (from tqdm->nltk) (0.4.6)\n",
      "Installing collected packages: regex, nltk\n",
      "Successfully installed nltk-3.8.1 regex-2024.5.15\n",
      "Note: you may need to restart the kernel to use updated packages.\n"
     ]
    },
    {
     "name": "stderr",
     "output_type": "stream",
     "text": [
      "WARNING: You are using pip version 20.2.3; however, version 24.0 is available.\n",
      "You should consider upgrading via the 'd:\\Mestrado\\Python\\Projeto\\myenv\\Scripts\\python.exe -m pip install --upgrade pip' command.\n"
     ]
    }
   ],
   "source": [
    "%pip install langdetect\n",
    "%pip install pandas\n",
    "%pip install spacy\n",
    "%pip install scikit-learn\n",
    "%pip install bs4\n",
    "%pip install nltk"
   ]
  },
  {
   "cell_type": "code",
   "execution_count": 3,
   "metadata": {},
   "outputs": [],
   "source": [
    "from langdetect import detect\n",
    "import pandas as pd\n",
    "import spacy"
   ]
  },
  {
   "cell_type": "code",
   "execution_count": 4,
   "metadata": {},
   "outputs": [],
   "source": [
    "# Carregar o modelo de idioma inglês\n",
    "nlp = spacy.load(\"en_core_web_sm\")\n",
    "\n",
    "# Função para detectar o idioma usando o Spacy\n",
    "def detect_language(text):\n",
    "    doc = nlp(text)\n",
    "    return doc.lang_\n",
    "\n",
    "def contar_frases(text):\n",
    "  if text is not None and len(text.strip()) > 0:  # Verifica se o texto não é nulo e contém conteúdo significativo\n",
    "      doc = nlp(text)\n",
    "      return len(list(doc.sents))\n",
    "  else:\n",
    "      return 0  # Retorna 0 se o texto for inválido ou vazio\n",
    "        \n",
    "# Função para contar o número de palavras em uma descrição usando spaCy\n",
    "def contar_palavras(text):\n",
    "    if text is not None and len(text.strip()) > 0:  # Verifica se o texto não é nulo e contém conteúdo significativo\n",
    "        doc = nlp(text)\n",
    "        return len(list(doc))\n",
    "    else:\n",
    "        return 0  # Retorna 0 se o texto for inválido ou vazio"
   ]
  },
  {
   "cell_type": "code",
   "execution_count": 5,
   "metadata": {},
   "outputs": [
    {
     "data": {
      "text/html": [
       "<div>\n",
       "<style scoped>\n",
       "    .dataframe tbody tr th:only-of-type {\n",
       "        vertical-align: middle;\n",
       "    }\n",
       "\n",
       "    .dataframe tbody tr th {\n",
       "        vertical-align: top;\n",
       "    }\n",
       "\n",
       "    .dataframe thead th {\n",
       "        text-align: right;\n",
       "    }\n",
       "</style>\n",
       "<table border=\"1\" class=\"dataframe\">\n",
       "  <thead>\n",
       "    <tr style=\"text-align: right;\">\n",
       "      <th></th>\n",
       "      <th>fields.description</th>\n",
       "      <th>fields.timeestimate</th>\n",
       "      <th>id</th>\n",
       "    </tr>\n",
       "  </thead>\n",
       "  <tbody>\n",
       "    <tr>\n",
       "      <th>0</th>\n",
       "      <td>Encountered this plugin within the ecosystem.a...</td>\n",
       "      <td>14400</td>\n",
       "      <td>134767</td>\n",
       "    </tr>\n",
       "    <tr>\n",
       "      <th>1</th>\n",
       "      <td>Reference to ${req.contextPath} in the files v...</td>\n",
       "      <td>1800</td>\n",
       "      <td>70685</td>\n",
       "    </tr>\n",
       "    <tr>\n",
       "      <th>2</th>\n",
       "      <td>This test started failing when UPM-1020 was im...</td>\n",
       "      <td>14400</td>\n",
       "      <td>41030</td>\n",
       "    </tr>\n",
       "    <tr>\n",
       "      <th>3</th>\n",
       "      <td>I verified in PAC that Atlassian Connector for...</td>\n",
       "      <td>7200</td>\n",
       "      <td>40983</td>\n",
       "    </tr>\n",
       "    <tr>\n",
       "      <th>4</th>\n",
       "      <td>This means that if you start on a tab, switch ...</td>\n",
       "      <td>7200</td>\n",
       "      <td>40932</td>\n",
       "    </tr>\n",
       "  </tbody>\n",
       "</table>\n",
       "</div>"
      ],
      "text/plain": [
       "                                  fields.description  fields.timeestimate  \\\n",
       "0  Encountered this plugin within the ecosystem.a...                14400   \n",
       "1  Reference to ${req.contextPath} in the files v...                 1800   \n",
       "2  This test started failing when UPM-1020 was im...                14400   \n",
       "3  I verified in PAC that Atlassian Connector for...                 7200   \n",
       "4  This means that if you start on a tab, switch ...                 7200   \n",
       "\n",
       "       id  \n",
       "0  134767  \n",
       "1   70685  \n",
       "2   41030  \n",
       "3   40983  \n",
       "4   40932  "
      ]
     },
     "execution_count": 5,
     "metadata": {},
     "output_type": "execute_result"
    }
   ],
   "source": [
    "# Lendo Dados\n",
    "dados_gerais = pd.read_csv('C:\\\\Users\\\\rodri\\\\Downloads\\\\JiraRepos.JiraEcosystem.csv')\n",
    "\n",
    "# Aplicar a função de detecção de idioma à coluna 'fields.description' e armazenar o resultado em uma nova coluna\n",
    "dados_gerais['lang'] = dados_gerais['fields.description'].apply(lambda x: detect_language(str(x)))\n",
    "\n",
    "# Filtrar apenas os registros onde o idioma detectado é inglês\n",
    "dados= dados_gerais[dados_gerais['lang'] == 'en']\n",
    "\n",
    "# Selecionar apenas as colunas 'fields.description', 'fields.timeestimate' e 'id'\n",
    "dados_filtrados = dados[['fields.description', 'fields.timeestimate', 'id']]\n",
    "\n",
    "dados_filtrados.head()"
   ]
  },
  {
   "cell_type": "code",
   "execution_count": null,
   "metadata": {},
   "outputs": [],
   "source": [
    "# Total de Registros\n",
    "total_registros = len(dados_filtrados)"
   ]
  },
  {
   "cell_type": "code",
   "execution_count": null,
   "metadata": {},
   "outputs": [],
   "source": [
    "# Contando o número de frases em cada descrição\n",
    "dados_filtrados['num_frases'] = dados_filtrados['fields.description'].apply(lambda x: contar_frases(str(x)))"
   ]
  },
  {
   "cell_type": "code",
   "execution_count": null,
   "metadata": {},
   "outputs": [],
   "source": [
    "# Total de Frases\n",
    "total_frases = dados_filtrados['num_frases'].sum()"
   ]
  },
  {
   "cell_type": "code",
   "execution_count": null,
   "metadata": {},
   "outputs": [],
   "source": [
    "# Média e Desvio Padrão de Frases\n",
    "media_frases = dados_filtrados['num_frases'].mean()\n",
    "desvio_padrao_frases = dados_filtrados['num_frases'].std()"
   ]
  },
  {
   "cell_type": "code",
   "execution_count": null,
   "metadata": {},
   "outputs": [],
   "source": [
    "# Contando o número de palavras em cada descrição\n",
    "dados_filtrados['num_palavras'] = dados_filtrados['fields.description'].apply(lambda x: contar_palavras(str(x)))"
   ]
  },
  {
   "cell_type": "code",
   "execution_count": null,
   "metadata": {},
   "outputs": [],
   "source": [
    "# Total de Palavras\n",
    "total_palavras = dados_filtrados['num_palavras'].sum()"
   ]
  },
  {
   "cell_type": "code",
   "execution_count": null,
   "metadata": {},
   "outputs": [],
   "source": [
    "# Média e Desvio Padrão de Palavras\n",
    "media_palavras = dados_filtrados['num_palavras'].mean()\n",
    "desvio_padrao_palavras = dados_filtrados['num_palavras'].std()"
   ]
  },
  {
   "cell_type": "code",
   "execution_count": null,
   "metadata": {},
   "outputs": [],
   "source": [
    "# Exibindo os resultados\n",
    "print(f\"Total de Registros: {total_registros}\")\n",
    "print(f\"Total de Frases: {total_frases}\")\n",
    "print(f\"Média de Frases por Registro: {media_frases:.2f}\")\n",
    "print(f\"Desvio Padrão de Frases por Registro: {desvio_padrao_frases:.2f}\")\n",
    "print(f\"Total de Palavras: {total_palavras}\")\n",
    "print(f\"Média de Palavras por Registro: {media_palavras:.2f}\")\n",
    "print(f\"Desvio Padrão de Palavras por Registro: {desvio_padrao_palavras:.2f}\")"
   ]
  },
  {
   "cell_type": "code",
   "execution_count": 6,
   "metadata": {},
   "outputs": [],
   "source": [
    "from sklearn.model_selection import train_test_split\n",
    "from sklearn.feature_extraction.text import CountVectorizer, TfidfVectorizer\n",
    "from tqdm import tqdm\n",
    "from unicodedata import normalize"
   ]
  },
  {
   "cell_type": "code",
   "execution_count": 12,
   "metadata": {},
   "outputs": [
    {
     "name": "stderr",
     "output_type": "stream",
     "text": [
      "C:\\Users\\rodri\\AppData\\Local\\Temp\\ipykernel_20916\\1444970373.py:16: MarkupResemblesLocatorWarning: The input looks more like a filename than markup. You may want to open this file and pass the filehandle into Beautiful Soup.\n",
      "  descricao_limpa = BeautifulSoup(descricao, 'html.parser').get_text()\n",
      "C:\\Users\\rodri\\AppData\\Local\\Temp\\ipykernel_20916\\1444970373.py:16: MarkupResemblesLocatorWarning: The input looks more like a URL than markup. You may want to use an HTTP client like requests to get the document behind the URL, and feed that document to Beautiful Soup.\n",
      "  descricao_limpa = BeautifulSoup(descricao, 'html.parser').get_text()\n",
      "Processando Descrições:   0%|          | 0/1066 [00:00<?, ?it/s]C:\\Users\\rodri\\AppData\\Local\\Temp\\ipykernel_20916\\1444970373.py:47: MarkupResemblesLocatorWarning: The input looks more like a filename than markup. You may want to open this file and pass the filehandle into Beautiful Soup.\n",
      "  descricao_limpa = BeautifulSoup(descricao, 'html.parser').get_text()\n",
      "Processando Descrições:   2%|▏         | 24/1066 [00:00<00:26, 39.99it/s]C:\\Users\\rodri\\AppData\\Local\\Temp\\ipykernel_20916\\1444970373.py:47: MarkupResemblesLocatorWarning: The input looks more like a URL than markup. You may want to use an HTTP client like requests to get the document behind the URL, and feed that document to Beautiful Soup.\n",
      "  descricao_limpa = BeautifulSoup(descricao, 'html.parser').get_text()\n",
      "Processando Descrições: 100%|██████████| 1066/1066 [00:20<00:00, 52.00it/s]\n"
     ]
    }
   ],
   "source": [
    "from bs4 import BeautifulSoup\n",
    "import re\n",
    "import nltk\n",
    "from nltk.stem import PorterStemmer\n",
    "from collections import Counter\n",
    "\n",
    "def preprocessar_descricao(list_descricao, remove_punctuation=True, lower_case=True, remove_rare_words=False, remove_common_words=False, stem=False, custom_stop_words=None):\n",
    "    descricao_2 = []\n",
    "    stop_words = set(nlp.Defaults.stop_words)\n",
    "    if custom_stop_words:\n",
    "        stop_words.update(custom_stop_words)\n",
    "\n",
    "    # Construir o vocabulário\n",
    "    all_words = []\n",
    "    for descricao in list_descricao:\n",
    "        descricao_limpa = BeautifulSoup(descricao, 'html.parser').get_text()\n",
    "        if lower_case:\n",
    "            descricao_limpa = descricao_limpa.lower()\n",
    "        if remove_punctuation:\n",
    "            descricao_limpa = re.sub(r'[^\\w\\s]', '', descricao_limpa)\n",
    "        words = descricao_limpa.split()\n",
    "        all_words.extend(words)\n",
    "\n",
    "    word_counts = Counter(all_words)\n",
    "\n",
    "    # Remover palavras raras e comuns, se necessário\n",
    "    if remove_rare_words:\n",
    "        all_words = [word for word in all_words if word_counts[word] > remove_rare_words]\n",
    "    if remove_common_words:\n",
    "        common_words = [word for word, count in word_counts.most_common(remove_common_words)]\n",
    "        all_words = [word for word in all_words if word not in common_words]\n",
    "\n",
    "    # Stemming ou lematização\n",
    "    if stem:\n",
    "        ps = PorterStemmer()\n",
    "        all_words = [ps.stem(word) for word in all_words]\n",
    "    else:\n",
    "        doc = nlp(' '.join(all_words))\n",
    "        all_words = [token.lemma_ for token in doc]\n",
    "\n",
    "    # Remover stop words\n",
    "    all_words = [word for word in all_words if word not in stop_words]\n",
    "\n",
    "    # Construir o corpus processado\n",
    "    with tqdm(total=len(list_descricao), desc='Processando Descrições') as pbar:\n",
    "        for descricao in list_descricao:\n",
    "            descricao_limpa = BeautifulSoup(descricao, 'html.parser').get_text()\n",
    "            if lower_case:\n",
    "                descricao_limpa = descricao_limpa.lower()\n",
    "            if remove_punctuation:\n",
    "                descricao_limpa = re.sub(r'[^\\w\\s]', '', descricao_limpa)\n",
    "            words = descricao_limpa.split()\n",
    "            if remove_rare_words:\n",
    "                words = [word for word in words if word_counts[word] > remove_rare_words]\n",
    "            if remove_common_words:\n",
    "                words = [word for word in words if word not in common_words]\n",
    "            if stem:\n",
    "                words = [ps.stem(word) for word in words]\n",
    "            else:\n",
    "                doc = nlp(' '.join(words))\n",
    "                words = [token.lemma_ for token in doc]\n",
    "            words = [word for word in words if word not in stop_words]\n",
    "            descricao_processada = ' '.join(words).strip()\n",
    "            descricao_2.append(descricao_processada)\n",
    "            pbar.update(1)\n",
    "\n",
    "    return descricao_2\n",
    "\n",
    "# Definindo os dados de entrada e saída\n",
    "X = preprocessar_descricao(dados_filtrados['fields.description'].values)\n",
    "y = dados_filtrados['fields.timeestimate'].values"
   ]
  },
  {
   "cell_type": "code",
   "execution_count": 13,
   "metadata": {},
   "outputs": [
    {
     "name": "stdout",
     "output_type": "stream",
     "text": [
      "Model: Linear Regression\n",
      "Mean RMSE: 53508.89105317117, Std RMSE: 6778.878561419679\n",
      "------------------------------\n",
      "Model: Ridge Regression\n",
      "Best Parameters: {'regressor__alpha': 1.0}\n",
      "Best RMSE: 47266.22622742131\n",
      "------------------------------\n",
      "Model: Lasso Regression\n",
      "Best Parameters: {'regressor__alpha': 100.0}\n",
      "Best RMSE: 48936.46535280398\n",
      "------------------------------\n",
      "Model: ElasticNet Regression\n",
      "Best Parameters: {'regressor__alpha': 0.1, 'regressor__l1_ratio': 0.9}\n",
      "Best RMSE: 47400.14427897302\n",
      "------------------------------\n",
      "Model: SVR\n",
      "Best Parameters: {'regressor__C': 10.0, 'regressor__epsilon': 1.0}\n",
      "Best RMSE: 49641.75526527036\n",
      "------------------------------\n",
      "Model: KNN\n",
      "Best Parameters: {'regressor__n_neighbors': 9}\n",
      "Best RMSE: 49916.784470218\n",
      "------------------------------\n",
      "Model: Decision Tree\n",
      "Best Parameters: {'regressor__max_depth': 20}\n",
      "Best RMSE: 53777.6283254976\n",
      "------------------------------\n"
     ]
    }
   ],
   "source": [
    "from sklearn.model_selection import StratifiedKFold, cross_val_score, KFold, GridSearchCV\n",
    "from sklearn.linear_model import LinearRegression, Ridge, Lasso, ElasticNet\n",
    "from sklearn.svm import SVR\n",
    "from sklearn.neighbors import KNeighborsRegressor\n",
    "from sklearn.tree import DecisionTreeRegressor\n",
    "from sklearn.feature_extraction.text import TfidfVectorizer\n",
    "from sklearn.pipeline import Pipeline\n",
    "\n",
    "\n",
    "# Definindo os modelos que deseja avaliar\n",
    "models = [\n",
    "    ('Linear Regression', LinearRegression(), {}),\n",
    "    ('Ridge Regression', Ridge(), {'regressor__alpha': [0.1, 1.0, 10.0, 100.0]}),\n",
    "    ('Lasso Regression', Lasso(max_iter=10000), {'regressor__alpha': [0.1, 1.0, 10.0, 100.0]}),\n",
    "    ('ElasticNet Regression', ElasticNet(max_iter=10000), {'regressor__alpha': [0.1, 1.0, 10.0, 100.0], 'regressor__l1_ratio': [0.1, 0.5, 0.9]}),\n",
    "    ('SVR', SVR(), {'regressor__C': [0.1, 1.0, 10.0], 'regressor__epsilon': [0.01, 0.1, 1.0]}),\n",
    "    ('KNN', KNeighborsRegressor(), {'regressor__n_neighbors': [3, 5, 7, 9]}),\n",
    "    ('Decision Tree', DecisionTreeRegressor(), {'regressor__max_depth': [None, 10, 20, 30]})\n",
    "]\n",
    "\n",
    "# Criando um pipeline com vetorização de texto e modelo de regressão\n",
    "pipeline = Pipeline([\n",
    "    ('tfidf', TfidfVectorizer()),  # Convertendo texto em TF-IDF\n",
    "    ('regressor', None)  # O modelo será adicionado dinamicamente\n",
    "])\n",
    "\n",
    "# Usando StratifiedKFold para validação cruzada\n",
    "#skf = StratifiedKFold(n_splits=5, shuffle=True, random_state=42)\n",
    "kf= KFold(n_splits=5, shuffle=True, random_state=42)\n",
    "\n",
    "# Avaliando cada modelo usando validação cruzada\n",
    "for name, model, param_grid in models:\n",
    "    pipeline.set_params(regressor=model)\n",
    "    if param_grid:\n",
    "        grid_search = GridSearchCV(pipeline, param_grid, cv=kf, scoring='neg_mean_squared_error')\n",
    "        grid_search.fit(X, y)\n",
    "        best_params = grid_search.best_params_\n",
    "        best_score = grid_search.best_score_\n",
    "        rmse_score = (-best_score)**0.5\n",
    "        print(f\"Model: {name}\")\n",
    "        print(f\"Best Parameters: {best_params}\")\n",
    "        print(f\"Best RMSE: {rmse_score}\")\n",
    "    else:\n",
    "        scores = cross_val_score(pipeline, X, y, cv=kf, scoring='neg_mean_squared_error')\n",
    "        rmse_scores = (-scores)**0.5\n",
    "        print(f\"Model: {name}\")\n",
    "        print(f\"Mean RMSE: {rmse_scores.mean()}, Std RMSE: {rmse_scores.std()}\")\n",
    "    print(\"-\" * 30)\n"
   ]
  }
 ],
 "metadata": {
  "kernelspec": {
   "display_name": "myenv",
   "language": "python",
   "name": "python3"
  },
  "language_info": {
   "codemirror_mode": {
    "name": "ipython",
    "version": 3
   },
   "file_extension": ".py",
   "mimetype": "text/x-python",
   "name": "python",
   "nbconvert_exporter": "python",
   "pygments_lexer": "ipython3",
   "version": "3.9.1"
  }
 },
 "nbformat": 4,
 "nbformat_minor": 2
}

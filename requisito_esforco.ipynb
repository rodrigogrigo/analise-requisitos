{
 "cells": [
  {
   "cell_type": "code",
   "execution_count": 24,
   "metadata": {},
   "outputs": [
    {
     "name": "stdout",
     "output_type": "stream",
     "text": [
      "Requirement already satisfied: langdetect in d:\\mestrado\\python\\projeto\\myenv\\lib\\site-packages (1.0.9)\n",
      "Requirement already satisfied: six in d:\\mestrado\\python\\projeto\\myenv\\lib\\site-packages (from langdetect) (1.16.0)\n",
      "Note: you may need to restart the kernel to use updated packages.\n"
     ]
    },
    {
     "name": "stderr",
     "output_type": "stream",
     "text": [
      "WARNING: You are using pip version 20.2.3; however, version 24.1.2 is available.\n",
      "You should consider upgrading via the 'd:\\Mestrado\\Python\\Projeto\\myenv\\Scripts\\python.exe -m pip install --upgrade pip' command.\n"
     ]
    },
    {
     "name": "stdout",
     "output_type": "stream",
     "text": [
      "Requirement already satisfied: pandas in d:\\mestrado\\python\\projeto\\myenv\\lib\\site-packages (2.2.2)\n",
      "Requirement already satisfied: tzdata>=2022.7 in d:\\mestrado\\python\\projeto\\myenv\\lib\\site-packages (from pandas) (2024.1)\n",
      "Requirement already satisfied: pytz>=2020.1 in d:\\mestrado\\python\\projeto\\myenv\\lib\\site-packages (from pandas) (2024.1)\n",
      "Requirement already satisfied: numpy>=1.22.4; python_version < \"3.11\" in d:\\mestrado\\python\\projeto\\myenv\\lib\\site-packages (from pandas) (1.26.4)\n",
      "Requirement already satisfied: python-dateutil>=2.8.2 in d:\\mestrado\\python\\projeto\\myenv\\lib\\site-packages (from pandas) (2.9.0.post0)\n",
      "Requirement already satisfied: six>=1.5 in d:\\mestrado\\python\\projeto\\myenv\\lib\\site-packages (from python-dateutil>=2.8.2->pandas) (1.16.0)\n",
      "Note: you may need to restart the kernel to use updated packages.\n"
     ]
    },
    {
     "name": "stderr",
     "output_type": "stream",
     "text": [
      "WARNING: You are using pip version 20.2.3; however, version 24.1.2 is available.\n",
      "You should consider upgrading via the 'd:\\Mestrado\\Python\\Projeto\\myenv\\Scripts\\python.exe -m pip install --upgrade pip' command.\n"
     ]
    },
    {
     "name": "stdout",
     "output_type": "stream",
     "text": [
      "Requirement already satisfied: spacy in d:\\mestrado\\python\\projeto\\myenv\\lib\\site-packages (3.7.4)\n",
      "Requirement already satisfied: murmurhash<1.1.0,>=0.28.0 in d:\\mestrado\\python\\projeto\\myenv\\lib\\site-packages (from spacy) (1.0.10)\n",
      "Requirement already satisfied: pydantic!=1.8,!=1.8.1,<3.0.0,>=1.7.4 in d:\\mestrado\\python\\projeto\\myenv\\lib\\site-packages (from spacy) (2.7.0)\n",
      "Requirement already satisfied: spacy-loggers<2.0.0,>=1.0.0 in d:\\mestrado\\python\\projeto\\myenv\\lib\\site-packages (from spacy) (1.0.5)\n",
      "Requirement already satisfied: thinc<8.3.0,>=8.2.2 in d:\\mestrado\\python\\projeto\\myenv\\lib\\site-packages (from spacy) (8.2.3)\n",
      "Requirement already satisfied: jinja2 in d:\\mestrado\\python\\projeto\\myenv\\lib\\site-packages (from spacy) (3.1.3)\n",
      "Requirement already satisfied: catalogue<2.1.0,>=2.0.6 in d:\\mestrado\\python\\projeto\\myenv\\lib\\site-packages (from spacy) (2.0.10)\n",
      "Requirement already satisfied: typer<0.10.0,>=0.3.0 in d:\\mestrado\\python\\projeto\\myenv\\lib\\site-packages (from spacy) (0.9.4)\n",
      "Requirement already satisfied: spacy-legacy<3.1.0,>=3.0.11 in d:\\mestrado\\python\\projeto\\myenv\\lib\\site-packages (from spacy) (3.0.12)\n",
      "Requirement already satisfied: requests<3.0.0,>=2.13.0 in d:\\mestrado\\python\\projeto\\myenv\\lib\\site-packages (from spacy) (2.31.0)\n",
      "Requirement already satisfied: langcodes<4.0.0,>=3.2.0 in d:\\mestrado\\python\\projeto\\myenv\\lib\\site-packages (from spacy) (3.3.0)\n",
      "Requirement already satisfied: weasel<0.4.0,>=0.1.0 in d:\\mestrado\\python\\projeto\\myenv\\lib\\site-packages (from spacy) (0.3.4)\n",
      "Requirement already satisfied: packaging>=20.0 in d:\\mestrado\\python\\projeto\\myenv\\lib\\site-packages (from spacy) (24.0)\n",
      "Requirement already satisfied: srsly<3.0.0,>=2.4.3 in d:\\mestrado\\python\\projeto\\myenv\\lib\\site-packages (from spacy) (2.4.8)\n",
      "Requirement already satisfied: smart-open<7.0.0,>=5.2.1 in d:\\mestrado\\python\\projeto\\myenv\\lib\\site-packages (from spacy) (6.4.0)\n",
      "Requirement already satisfied: preshed<3.1.0,>=3.0.2 in d:\\mestrado\\python\\projeto\\myenv\\lib\\site-packages (from spacy) (3.0.9)\n",
      "Requirement already satisfied: wasabi<1.2.0,>=0.9.1 in d:\\mestrado\\python\\projeto\\myenv\\lib\\site-packages (from spacy) (1.1.2)\n",
      "Requirement already satisfied: setuptools in d:\\mestrado\\python\\projeto\\myenv\\lib\\site-packages (from spacy) (49.2.1)\n",
      "Requirement already satisfied: cymem<2.1.0,>=2.0.2 in d:\\mestrado\\python\\projeto\\myenv\\lib\\site-packages (from spacy) (2.0.8)\n",
      "Requirement already satisfied: tqdm<5.0.0,>=4.38.0 in d:\\mestrado\\python\\projeto\\myenv\\lib\\site-packages (from spacy) (4.66.2)\n",
      "Requirement already satisfied: numpy>=1.19.0; python_version >= \"3.9\" in d:\\mestrado\\python\\projeto\\myenv\\lib\\site-packages (from spacy) (1.26.4)\n",
      "Requirement already satisfied: pydantic-core==2.18.1 in d:\\mestrado\\python\\projeto\\myenv\\lib\\site-packages (from pydantic!=1.8,!=1.8.1,<3.0.0,>=1.7.4->spacy) (2.18.1)\n",
      "Requirement already satisfied: typing-extensions>=4.6.1 in d:\\mestrado\\python\\projeto\\myenv\\lib\\site-packages (from pydantic!=1.8,!=1.8.1,<3.0.0,>=1.7.4->spacy) (4.11.0)\n",
      "Requirement already satisfied: annotated-types>=0.4.0 in d:\\mestrado\\python\\projeto\\myenv\\lib\\site-packages (from pydantic!=1.8,!=1.8.1,<3.0.0,>=1.7.4->spacy) (0.6.0)\n",
      "Requirement already satisfied: blis<0.8.0,>=0.7.8 in d:\\mestrado\\python\\projeto\\myenv\\lib\\site-packages (from thinc<8.3.0,>=8.2.2->spacy) (0.7.11)\n",
      "Requirement already satisfied: confection<1.0.0,>=0.0.1 in d:\\mestrado\\python\\projeto\\myenv\\lib\\site-packages (from thinc<8.3.0,>=8.2.2->spacy) (0.1.4)\n",
      "Requirement already satisfied: MarkupSafe>=2.0 in d:\\mestrado\\python\\projeto\\myenv\\lib\\site-packages (from jinja2->spacy) (2.1.5)\n",
      "Requirement already satisfied: click<9.0.0,>=7.1.1 in d:\\mestrado\\python\\projeto\\myenv\\lib\\site-packages (from typer<0.10.0,>=0.3.0->spacy) (8.1.7)\n",
      "Requirement already satisfied: urllib3<3,>=1.21.1 in d:\\mestrado\\python\\projeto\\myenv\\lib\\site-packages (from requests<3.0.0,>=2.13.0->spacy) (2.2.1)\n",
      "Requirement already satisfied: idna<4,>=2.5 in d:\\mestrado\\python\\projeto\\myenv\\lib\\site-packages (from requests<3.0.0,>=2.13.0->spacy) (3.7)\n",
      "Requirement already satisfied: certifi>=2017.4.17 in d:\\mestrado\\python\\projeto\\myenv\\lib\\site-packages (from requests<3.0.0,>=2.13.0->spacy) (2024.2.2)\n",
      "Requirement already satisfied: charset-normalizer<4,>=2 in d:\\mestrado\\python\\projeto\\myenv\\lib\\site-packages (from requests<3.0.0,>=2.13.0->spacy) (3.3.2)\n",
      "Requirement already satisfied: cloudpathlib<0.17.0,>=0.7.0 in d:\\mestrado\\python\\projeto\\myenv\\lib\\site-packages (from weasel<0.4.0,>=0.1.0->spacy) (0.16.0)\n",
      "Requirement already satisfied: colorama>=0.4.6; sys_platform == \"win32\" and python_version >= \"3.7\" in d:\\mestrado\\python\\projeto\\myenv\\lib\\site-packages (from wasabi<1.2.0,>=0.9.1->spacy) (0.4.6)\n",
      "Note: you may need to restart the kernel to use updated packages.\n"
     ]
    },
    {
     "name": "stderr",
     "output_type": "stream",
     "text": [
      "WARNING: You are using pip version 20.2.3; however, version 24.1.2 is available.\n",
      "You should consider upgrading via the 'd:\\Mestrado\\Python\\Projeto\\myenv\\Scripts\\python.exe -m pip install --upgrade pip' command.\n"
     ]
    },
    {
     "name": "stdout",
     "output_type": "stream",
     "text": [
      "Requirement already satisfied: scikit-learn in d:\\mestrado\\python\\projeto\\myenv\\lib\\site-packages (1.4.2)\n",
      "Requirement already satisfied: threadpoolctl>=2.0.0 in d:\\mestrado\\python\\projeto\\myenv\\lib\\site-packages (from scikit-learn) (3.5.0)\n",
      "Requirement already satisfied: joblib>=1.2.0 in d:\\mestrado\\python\\projeto\\myenv\\lib\\site-packages (from scikit-learn) (1.4.2)\n",
      "Requirement already satisfied: numpy>=1.19.5 in d:\\mestrado\\python\\projeto\\myenv\\lib\\site-packages (from scikit-learn) (1.26.4)\n",
      "Requirement already satisfied: scipy>=1.6.0 in d:\\mestrado\\python\\projeto\\myenv\\lib\\site-packages (from scikit-learn) (1.13.0)\n",
      "Note: you may need to restart the kernel to use updated packages.\n"
     ]
    },
    {
     "name": "stderr",
     "output_type": "stream",
     "text": [
      "WARNING: You are using pip version 20.2.3; however, version 24.1.2 is available.\n",
      "You should consider upgrading via the 'd:\\Mestrado\\Python\\Projeto\\myenv\\Scripts\\python.exe -m pip install --upgrade pip' command.\n"
     ]
    },
    {
     "name": "stdout",
     "output_type": "stream",
     "text": [
      "Requirement already satisfied: bs4 in d:\\mestrado\\python\\projeto\\myenv\\lib\\site-packages (0.0.2)\n",
      "Requirement already satisfied: beautifulsoup4 in d:\\mestrado\\python\\projeto\\myenv\\lib\\site-packages (from bs4) (4.12.3)\n",
      "Requirement already satisfied: soupsieve>1.2 in d:\\mestrado\\python\\projeto\\myenv\\lib\\site-packages (from beautifulsoup4->bs4) (2.5)\n",
      "Note: you may need to restart the kernel to use updated packages.\n"
     ]
    },
    {
     "name": "stderr",
     "output_type": "stream",
     "text": [
      "WARNING: You are using pip version 20.2.3; however, version 24.1.2 is available.\n",
      "You should consider upgrading via the 'd:\\Mestrado\\Python\\Projeto\\myenv\\Scripts\\python.exe -m pip install --upgrade pip' command.\n"
     ]
    },
    {
     "name": "stdout",
     "output_type": "stream",
     "text": [
      "Requirement already satisfied: nltk in d:\\mestrado\\python\\projeto\\myenv\\lib\\site-packages (3.8.1)\n",
      "Requirement already satisfied: click in d:\\mestrado\\python\\projeto\\myenv\\lib\\site-packages (from nltk) (8.1.7)\n",
      "Requirement already satisfied: joblib in d:\\mestrado\\python\\projeto\\myenv\\lib\\site-packages (from nltk) (1.4.2)\n",
      "Requirement already satisfied: tqdm in d:\\mestrado\\python\\projeto\\myenv\\lib\\site-packages (from nltk) (4.66.2)\n",
      "Requirement already satisfied: regex>=2021.8.3 in d:\\mestrado\\python\\projeto\\myenv\\lib\\site-packages (from nltk) (2024.5.15)\n",
      "Requirement already satisfied: colorama; platform_system == \"Windows\" in d:\\mestrado\\python\\projeto\\myenv\\lib\\site-packages (from click->nltk) (0.4.6)\n",
      "Note: you may need to restart the kernel to use updated packages.\n"
     ]
    },
    {
     "name": "stderr",
     "output_type": "stream",
     "text": [
      "WARNING: You are using pip version 20.2.3; however, version 24.1.2 is available.\n",
      "You should consider upgrading via the 'd:\\Mestrado\\Python\\Projeto\\myenv\\Scripts\\python.exe -m pip install --upgrade pip' command.\n"
     ]
    },
    {
     "name": "stdout",
     "output_type": "stream",
     "text": [
      "Requirement already satisfied: xgboost in d:\\mestrado\\python\\projeto\\myenv\\lib\\site-packages (2.1.0)\n",
      "Requirement already satisfied: scipy in d:\\mestrado\\python\\projeto\\myenv\\lib\\site-packages (from xgboost) (1.13.0)\n",
      "Requirement already satisfied: numpy in d:\\mestrado\\python\\projeto\\myenv\\lib\\site-packages (from xgboost) (1.26.4)\n",
      "Note: you may need to restart the kernel to use updated packages.\n"
     ]
    },
    {
     "name": "stderr",
     "output_type": "stream",
     "text": [
      "WARNING: You are using pip version 20.2.3; however, version 24.1.2 is available.\n",
      "You should consider upgrading via the 'd:\\Mestrado\\Python\\Projeto\\myenv\\Scripts\\python.exe -m pip install --upgrade pip' command.\n"
     ]
    },
    {
     "name": "stdout",
     "output_type": "stream",
     "text": [
      "Collecting catboost\n",
      "  Downloading catboost-1.2.5-cp39-cp39-win_amd64.whl (101.2 MB)\n",
      "Requirement already satisfied: numpy>=1.16.0 in d:\\mestrado\\python\\projeto\\myenv\\lib\\site-packages (from catboost) (1.26.4)\n",
      "Requirement already satisfied: scipy in d:\\mestrado\\python\\projeto\\myenv\\lib\\site-packages (from catboost) (1.13.0)\n",
      "Collecting plotly\n",
      "  Downloading plotly-5.23.0-py3-none-any.whl (17.3 MB)\n",
      "Requirement already satisfied: pandas>=0.24 in d:\\mestrado\\python\\projeto\\myenv\\lib\\site-packages (from catboost) (2.2.2)\n",
      "Requirement already satisfied: six in d:\\mestrado\\python\\projeto\\myenv\\lib\\site-packages (from catboost) (1.16.0)\n",
      "Collecting graphviz\n",
      "  Downloading graphviz-0.20.3-py3-none-any.whl (47 kB)\n",
      "Requirement already satisfied: matplotlib in d:\\mestrado\\python\\projeto\\myenv\\lib\\site-packages (from catboost) (3.8.4)\n",
      "Collecting tenacity>=6.2.0\n",
      "  Downloading tenacity-8.5.0-py3-none-any.whl (28 kB)\n",
      "Requirement already satisfied: packaging in d:\\mestrado\\python\\projeto\\myenv\\lib\\site-packages (from plotly->catboost) (24.0)\n",
      "Requirement already satisfied: tzdata>=2022.7 in d:\\mestrado\\python\\projeto\\myenv\\lib\\site-packages (from pandas>=0.24->catboost) (2024.1)\n",
      "Requirement already satisfied: python-dateutil>=2.8.2 in d:\\mestrado\\python\\projeto\\myenv\\lib\\site-packages (from pandas>=0.24->catboost) (2.9.0.post0)\n",
      "Requirement already satisfied: pytz>=2020.1 in d:\\mestrado\\python\\projeto\\myenv\\lib\\site-packages (from pandas>=0.24->catboost) (2024.1)\n",
      "Requirement already satisfied: importlib-resources>=3.2.0; python_version < \"3.10\" in d:\\mestrado\\python\\projeto\\myenv\\lib\\site-packages (from matplotlib->catboost) (6.4.0)\n",
      "Requirement already satisfied: kiwisolver>=1.3.1 in d:\\mestrado\\python\\projeto\\myenv\\lib\\site-packages (from matplotlib->catboost) (1.4.5)\n",
      "Requirement already satisfied: cycler>=0.10 in d:\\mestrado\\python\\projeto\\myenv\\lib\\site-packages (from matplotlib->catboost) (0.12.1)\n",
      "Requirement already satisfied: pillow>=8 in d:\\mestrado\\python\\projeto\\myenv\\lib\\site-packages (from matplotlib->catboost) (10.3.0)\n",
      "Requirement already satisfied: fonttools>=4.22.0 in d:\\mestrado\\python\\projeto\\myenv\\lib\\site-packages (from matplotlib->catboost) (4.51.0)\n",
      "Requirement already satisfied: pyparsing>=2.3.1 in d:\\mestrado\\python\\projeto\\myenv\\lib\\site-packages (from matplotlib->catboost) (3.1.2)\n",
      "Requirement already satisfied: contourpy>=1.0.1 in d:\\mestrado\\python\\projeto\\myenv\\lib\\site-packages (from matplotlib->catboost) (1.2.1)\n",
      "Requirement already satisfied: zipp>=3.1.0; python_version < \"3.10\" in d:\\mestrado\\python\\projeto\\myenv\\lib\\site-packages (from importlib-resources>=3.2.0; python_version < \"3.10\"->matplotlib->catboost) (3.18.1)\n",
      "Installing collected packages: tenacity, plotly, graphviz, catboost\n",
      "Successfully installed catboost-1.2.5 graphviz-0.20.3 plotly-5.23.0 tenacity-8.5.0\n",
      "Note: you may need to restart the kernel to use updated packages.\n"
     ]
    },
    {
     "name": "stderr",
     "output_type": "stream",
     "text": [
      "WARNING: You are using pip version 20.2.3; however, version 24.1.2 is available.\n",
      "You should consider upgrading via the 'd:\\Mestrado\\Python\\Projeto\\myenv\\Scripts\\python.exe -m pip install --upgrade pip' command.\n"
     ]
    }
   ],
   "source": [
    "%pip install langdetect\n",
    "%pip install pandas\n",
    "%pip install spacy\n",
    "%pip install scikit-learn\n",
    "%pip install bs4\n",
    "%pip install nltk\n",
    "%pip install xgboost\n",
    "%pip install catboost"
   ]
  },
  {
   "cell_type": "code",
   "execution_count": 1,
   "metadata": {},
   "outputs": [],
   "source": [
    "from langdetect import detect\n",
    "import pandas as pd\n",
    "import spacy"
   ]
  },
  {
   "cell_type": "code",
   "execution_count": 2,
   "metadata": {},
   "outputs": [],
   "source": [
    "# Carregar o modelo de idioma inglês\n",
    "nlp = spacy.load(\"en_core_web_sm\")\n",
    "\n",
    "# Função para detectar o idioma usando o Spacy\n",
    "def detect_language(text):\n",
    "    doc = nlp(text)\n",
    "    return doc.lang_\n",
    "\n",
    "def contar_frases(text):\n",
    "  if text is not None and len(text.strip()) > 0:  # Verifica se o texto não é nulo e contém conteúdo significativo\n",
    "      doc = nlp(text)\n",
    "      return len(list(doc.sents))\n",
    "  else:\n",
    "      return 0  # Retorna 0 se o texto for inválido ou vazio\n",
    "        \n",
    "# Função para contar o número de palavras em uma descrição usando spaCy\n",
    "def contar_palavras(text):\n",
    "    if text is not None and len(text.strip()) > 0:  # Verifica se o texto não é nulo e contém conteúdo significativo\n",
    "        doc = nlp(text)\n",
    "        return len(list(doc))\n",
    "    else:\n",
    "        return 0  # Retorna 0 se o texto for inválido ou vazio"
   ]
  },
  {
   "cell_type": "code",
   "execution_count": 3,
   "metadata": {},
   "outputs": [
    {
     "data": {
      "text/html": [
       "<div>\n",
       "<style scoped>\n",
       "    .dataframe tbody tr th:only-of-type {\n",
       "        vertical-align: middle;\n",
       "    }\n",
       "\n",
       "    .dataframe tbody tr th {\n",
       "        vertical-align: top;\n",
       "    }\n",
       "\n",
       "    .dataframe thead th {\n",
       "        text-align: right;\n",
       "    }\n",
       "</style>\n",
       "<table border=\"1\" class=\"dataframe\">\n",
       "  <thead>\n",
       "    <tr style=\"text-align: right;\">\n",
       "      <th></th>\n",
       "      <th>fields.description</th>\n",
       "      <th>fields.timeestimate</th>\n",
       "      <th>id</th>\n",
       "    </tr>\n",
       "  </thead>\n",
       "  <tbody>\n",
       "    <tr>\n",
       "      <th>0</th>\n",
       "      <td>Encountered this plugin within the ecosystem.a...</td>\n",
       "      <td>14400</td>\n",
       "      <td>134767</td>\n",
       "    </tr>\n",
       "    <tr>\n",
       "      <th>1</th>\n",
       "      <td>Reference to ${req.contextPath} in the files v...</td>\n",
       "      <td>1800</td>\n",
       "      <td>70685</td>\n",
       "    </tr>\n",
       "    <tr>\n",
       "      <th>2</th>\n",
       "      <td>This test started failing when UPM-1020 was im...</td>\n",
       "      <td>14400</td>\n",
       "      <td>41030</td>\n",
       "    </tr>\n",
       "    <tr>\n",
       "      <th>3</th>\n",
       "      <td>I verified in PAC that Atlassian Connector for...</td>\n",
       "      <td>7200</td>\n",
       "      <td>40983</td>\n",
       "    </tr>\n",
       "    <tr>\n",
       "      <th>4</th>\n",
       "      <td>This means that if you start on a tab, switch ...</td>\n",
       "      <td>7200</td>\n",
       "      <td>40932</td>\n",
       "    </tr>\n",
       "  </tbody>\n",
       "</table>\n",
       "</div>"
      ],
      "text/plain": [
       "                                  fields.description  fields.timeestimate  \\\n",
       "0  Encountered this plugin within the ecosystem.a...                14400   \n",
       "1  Reference to ${req.contextPath} in the files v...                 1800   \n",
       "2  This test started failing when UPM-1020 was im...                14400   \n",
       "3  I verified in PAC that Atlassian Connector for...                 7200   \n",
       "4  This means that if you start on a tab, switch ...                 7200   \n",
       "\n",
       "       id  \n",
       "0  134767  \n",
       "1   70685  \n",
       "2   41030  \n",
       "3   40983  \n",
       "4   40932  "
      ]
     },
     "execution_count": 3,
     "metadata": {},
     "output_type": "execute_result"
    }
   ],
   "source": [
    "# Lendo Dados\n",
    "dados_gerais = pd.read_csv('C:\\\\Users\\\\rodri\\\\Downloads\\\\JiraRepos.JiraEcosystem.csv')\n",
    "\n",
    "# Aplicar a função de detecção de idioma à coluna 'fields.description' e armazenar o resultado em uma nova coluna\n",
    "dados_gerais['lang'] = dados_gerais['fields.description'].apply(lambda x: detect_language(str(x)))\n",
    "\n",
    "# Filtrar apenas os registros onde o idioma detectado é inglês\n",
    "dados= dados_gerais[dados_gerais['lang'] == 'en']\n",
    "\n",
    "# Selecionar apenas as colunas 'fields.description', 'fields.timeestimate' e 'id'\n",
    "dados_filtrados = dados[['fields.description', 'fields.timeestimate', 'id']]\n",
    "\n",
    "dados_filtrados.head()"
   ]
  },
  {
   "cell_type": "code",
   "execution_count": 5,
   "metadata": {},
   "outputs": [],
   "source": [
    "# Total de Registros\n",
    "total_registros = len(dados_filtrados)"
   ]
  },
  {
   "cell_type": "code",
   "execution_count": 6,
   "metadata": {},
   "outputs": [
    {
     "name": "stderr",
     "output_type": "stream",
     "text": [
      "C:\\Users\\rodri\\AppData\\Local\\Temp\\ipykernel_16840\\3834843983.py:2: SettingWithCopyWarning: \n",
      "A value is trying to be set on a copy of a slice from a DataFrame.\n",
      "Try using .loc[row_indexer,col_indexer] = value instead\n",
      "\n",
      "See the caveats in the documentation: https://pandas.pydata.org/pandas-docs/stable/user_guide/indexing.html#returning-a-view-versus-a-copy\n",
      "  dados_filtrados['num_frases'] = dados_filtrados['fields.description'].apply(lambda x: contar_frases(str(x)))\n"
     ]
    }
   ],
   "source": [
    "# Contando o número de frases em cada descrição\n",
    "dados_filtrados['num_frases'] = dados_filtrados['fields.description'].apply(lambda x: contar_frases(str(x)))"
   ]
  },
  {
   "cell_type": "code",
   "execution_count": null,
   "metadata": {},
   "outputs": [],
   "source": [
    "# Total de Frases\n",
    "total_frases = dados_filtrados['num_frases'].sum()"
   ]
  },
  {
   "cell_type": "code",
   "execution_count": null,
   "metadata": {},
   "outputs": [],
   "source": [
    "# Média e Desvio Padrão de Frases\n",
    "media_frases = dados_filtrados['num_frases'].mean()\n",
    "desvio_padrao_frases = dados_filtrados['num_frases'].std()"
   ]
  },
  {
   "cell_type": "code",
   "execution_count": null,
   "metadata": {},
   "outputs": [],
   "source": [
    "# Contando o número de palavras em cada descrição\n",
    "dados_filtrados['num_palavras'] = dados_filtrados['fields.description'].apply(lambda x: contar_palavras(str(x)))"
   ]
  },
  {
   "cell_type": "code",
   "execution_count": null,
   "metadata": {},
   "outputs": [],
   "source": [
    "# Total de Palavras\n",
    "total_palavras = dados_filtrados['num_palavras'].sum()"
   ]
  },
  {
   "cell_type": "code",
   "execution_count": null,
   "metadata": {},
   "outputs": [],
   "source": [
    "# Média e Desvio Padrão de Palavras\n",
    "media_palavras = dados_filtrados['num_palavras'].mean()\n",
    "desvio_padrao_palavras = dados_filtrados['num_palavras'].std()"
   ]
  },
  {
   "cell_type": "code",
   "execution_count": null,
   "metadata": {},
   "outputs": [],
   "source": [
    "# Exibindo os resultados\n",
    "print(f\"Total de Registros: {total_registros}\")\n",
    "print(f\"Total de Frases: {total_frases}\")\n",
    "print(f\"Média de Frases por Registro: {media_frases:.2f}\")\n",
    "print(f\"Desvio Padrão de Frases por Registro: {desvio_padrao_frases:.2f}\")\n",
    "print(f\"Total de Palavras: {total_palavras}\")\n",
    "print(f\"Média de Palavras por Registro: {media_palavras:.2f}\")\n",
    "print(f\"Desvio Padrão de Palavras por Registro: {desvio_padrao_palavras:.2f}\")"
   ]
  },
  {
   "cell_type": "code",
   "execution_count": 4,
   "metadata": {},
   "outputs": [],
   "source": [
    "from sklearn.model_selection import train_test_split\n",
    "from sklearn.feature_extraction.text import CountVectorizer, TfidfVectorizer\n",
    "from tqdm import tqdm\n",
    "from unicodedata import normalize"
   ]
  },
  {
   "cell_type": "code",
   "execution_count": 5,
   "metadata": {},
   "outputs": [
    {
     "name": "stderr",
     "output_type": "stream",
     "text": [
      "Processando Descrição:   0%|          | 0/1066 [00:00<?, ?it/s]C:\\Users\\rodri\\AppData\\Local\\Temp\\ipykernel_2768\\1950722891.py:14: MarkupResemblesLocatorWarning: The input looks more like a filename than markup. You may want to open this file and pass the filehandle into Beautiful Soup.\n",
      "  descricao_processada = BeautifulSoup(descricao, 'html.parser').get_text()\n",
      "Processando Descrição:   3%|▎         | 27/1066 [00:00<00:31, 33.05it/s]C:\\Users\\rodri\\AppData\\Local\\Temp\\ipykernel_2768\\1950722891.py:14: MarkupResemblesLocatorWarning: The input looks more like a URL than markup. You may want to use an HTTP client like requests to get the document behind the URL, and feed that document to Beautiful Soup.\n",
      "  descricao_processada = BeautifulSoup(descricao, 'html.parser').get_text()\n",
      "Processando Descrição: 100%|██████████| 1066/1066 [00:20<00:00, 52.82it/s]\n"
     ]
    }
   ],
   "source": [
    "from bs4 import BeautifulSoup\n",
    "import re\n",
    "import nltk\n",
    "from nltk.stem import PorterStemmer\n",
    "from collections import Counter\n",
    "\n",
    "def preprocessar_descricao(list_descricao):\n",
    "    descricao_2 = []\n",
    "\n",
    "    with tqdm(total=len(list_descricao),\n",
    "        desc='Processando Descrição') as pbar:\n",
    "    \n",
    "        for descricao in list_descricao:\n",
    "            descricao_processada = BeautifulSoup(descricao, 'html.parser').get_text()\n",
    "            doc = nlp(descricao_processada)\n",
    "            tokens = [t.lemma_.lower() for t in doc if t.pos_ != 'PUNCT'\n",
    "                        and len(t.lemma_) > 1 and not t.is_stop]\n",
    "            descricao_processada = ' '.join(tokens).strip()\n",
    "            descricao_2.append(descricao_processada)\n",
    "            pbar.update(1)\n",
    "\n",
    "    return descricao_2\n",
    "\n",
    "# Definindo os dados de entrada e saída\n",
    "X = preprocessar_descricao(dados_filtrados['fields.description'].values)\n",
    "y = dados_filtrados['fields.timeestimate'].values"
   ]
  },
  {
   "cell_type": "code",
   "execution_count": 14,
   "metadata": {},
   "outputs": [
    {
     "name": "stdout",
     "output_type": "stream",
     "text": [
      "\n",
      "Total Examples: 1066 -- 1066\n",
      "\n",
      "\n",
      "Min Estimation: 60\n",
      "Max Estimation: 648000\n"
     ]
    },
    {
     "data": {
      "image/png": "[encoded data removed]",
      "text/plain": [
       "<Figure size 1000x600 with 1 Axes>"
      ]
     },
     "metadata": {},
     "output_type": "display_data"
    },
    {
     "name": "stdout",
     "output_type": "stream",
     "text": [
      "Outliers:\n",
      "[ 64800  64800 259200  57600  86400 115200  57600 288000 216000 216000\n",
      "  64800  64800 129600  86400  57600  72000 115200  86400 108000  57600\n",
      "  86400  64800  57600  57600  57600  57600  57600  57600  57600  57600\n",
      "  57600 144000  57600 115200  64800  64800  57600  64800  50400  86400\n",
      " 172800 172800  86400 108000  54000  64800 129600  86400 144000 432000\n",
      " 288000 576000 288000 144000 144000 576000  86400  57600 108000  86400\n",
      "  86400  57600  86400  57600  57600  86400  86400 115200  86400  57600\n",
      "  57600  57600  57600  86400  57600  57600  86400  64800  64800  86400\n",
      " 216000  64800  64800  57600  64800 324000  64800  64800 648000 216000\n",
      "  86400  86400  86400 108000  64800 590400  86400]\n",
      "Lower Bound: -14400.0\n",
      "Upper Bound: 43200.0\n"
     ]
    }
   ],
   "source": [
    "import numpy as np\n",
    "import matplotlib.pyplot as plt\n",
    "\n",
    "descriptions = dados_filtrados['fields.description'].values\n",
    "effort_estimations = dados_filtrados['fields.timeestimate'].values\n",
    "\n",
    "min_effort = min(effort_estimations)\n",
    "max_effort = max(effort_estimations)\n",
    "\n",
    "effort_estimations = np.array(effort_estimations)\n",
    "\n",
    "print(f'\\nTotal Examples: {len(descriptions)} -- {len(effort_estimations)}\\n')\n",
    "print(f'\\nMin Estimation: {min_effort}')\n",
    "print(f'Max Estimation: {max_effort}')\n",
    "\n",
    "# Boxplot dos valores de esforço\n",
    "plt.figure(figsize=(10, 6))\n",
    "plt.boxplot(effort_estimations)\n",
    "plt.title('Boxplot dos Valores de Esforço')\n",
    "plt.ylabel('Esforço (em unidades de tempo)')\n",
    "plt.show()\n",
    "\n",
    "# Calcular os quartis e o IQR\n",
    "Q1 = np.percentile(effort_estimations, 25)\n",
    "Q3 = np.percentile(effort_estimations, 75)\n",
    "IQR = Q3 - Q1\n",
    "\n",
    "# Determinar os limites inferior e superior\n",
    "lower_bound = Q1 - 1.5 * IQR\n",
    "upper_bound = Q3 + 1.5 * IQR\n",
    "\n",
    "# Identificar outliers\n",
    "outliers = effort_estimations[(effort_estimations < lower_bound) | (effort_estimations > upper_bound)]\n",
    "\n",
    "print(f\"Outliers:\\n{outliers}\")\n",
    "print(f\"Lower Bound: {lower_bound}\")\n",
    "print(f\"Upper Bound: {upper_bound}\")\n"
   ]
  },
  {
   "cell_type": "code",
   "execution_count": 17,
   "metadata": {},
   "outputs": [
    {
     "name": "stdout",
     "output_type": "stream",
     "text": [
      "\n",
      "Total Examples After Removing Outliers: 969 -- 969\n",
      "\n",
      "\n",
      "Total Examples Removed: 97\n",
      "\n"
     ]
    },
    {
     "data": {
      "image/png": "[encoded data removed]",
      "text/plain": [
       "<Figure size 1000x600 with 1 Axes>"
      ]
     },
     "metadata": {},
     "output_type": "display_data"
    }
   ],
   "source": [
    "# Remover os outliers\n",
    "filtered_effort_estimations = effort_estimations[(effort_estimations >= lower_bound) & (effort_estimations <= upper_bound)]\n",
    "filtered_descriptions = descriptions[(effort_estimations >= lower_bound) & (effort_estimations <= upper_bound)]\n",
    "\n",
    "print(f'\\nTotal Examples After Removing Outliers: {len(filtered_descriptions)} -- {len(filtered_effort_estimations)}\\n')\n",
    "print(f'\\nTotal Examples Removed: {len(effort_estimations) - len(filtered_effort_estimations)}\\n')\n",
    "\n",
    "# Boxplot dos valores de esforço sem outliers\n",
    "plt.figure(figsize=(10, 6))\n",
    "plt.boxplot(filtered_effort_estimations)\n",
    "plt.title('Boxplot dos Valores de Esforço sem Outliers')\n",
    "plt.ylabel('Esforço (em unidades de tempo)')\n",
    "plt.show()\n",
    "\n"
   ]
  },
  {
   "cell_type": "code",
   "execution_count": 25,
   "metadata": {},
   "outputs": [
    {
     "name": "stdout",
     "output_type": "stream",
     "text": [
      "\n",
      "Model: Linear Regression\n",
      "\n",
      "Model: Ridge Regression\n",
      "\n",
      "Model: Lasso Regression\n",
      "\n",
      "Model: ElasticNet Regression\n",
      "\n",
      "Model: SVR\n",
      "\n",
      "Model: KNN\n",
      "\n",
      "Model: Decision Tree\n",
      "\n",
      "Model: XGBoost\n",
      "\n",
      "Model: CatBoost\n",
      "\n",
      "Resultados:\n",
      "                   Model                                      MAE  \\\n",
      "0      Linear Regression    46677.30314636153 ± 2877.313114396741   \n",
      "1       Ridge Regression   7972.683613593962 ± 353.53170218199756   \n",
      "2       Lasso Regression    8353.034071026485 ± 575.7440601212669   \n",
      "3  ElasticNet Regression   7964.6467739958225 ± 353.3141210729667   \n",
      "4                    SVR    7738.253015480691 ± 381.1328722769058   \n",
      "5                    KNN     8274.40532022862 ± 444.4558635847075   \n",
      "6          Decision Tree      8979.35428530761 ± 624.268297074843   \n",
      "7                XGBoost   7933.835216770689 ± 418.51154410933566   \n",
      "8               CatBoost  8090.1618148458265 ± 438.01844334717276   \n",
      "\n",
      "                                              R2  \\\n",
      "0         -32.34425592805424 ± 6.884827071412777   \n",
      "1     0.05655913743211605 ± 0.012517131569159495   \n",
      "2    -0.021037664737553908 ± 0.09425135196986602   \n",
      "3     0.06288200620515934 ± 0.015546553301776693   \n",
      "4  -0.007954989935099955 ± 0.0035544443635493294   \n",
      "5      -0.0338847410204113 ± 0.04596351415252337   \n",
      "6     -0.30249122351597313 ± 0.11486754069973845   \n",
      "7    0.033502045992743645 ± 0.040731183519058196   \n",
      "8    0.019556995913885888 ± 0.033760656166751245   \n",
      "\n",
      "                                      RMSE  \\\n",
      "0    63017.37139075155 ± 4885.718582860105   \n",
      "1    10682.61965514458 ± 492.8648259406298   \n",
      "2   11099.229387000309 ± 675.8374873838483   \n",
      "3    10646.66640838196 ± 494.3608339470568   \n",
      "4  11041.828678276199 ± 501.35195539716324   \n",
      "5   11188.510013306575 ± 713.3741356280952   \n",
      "6   12538.057467937713 ± 749.9450305398758   \n",
      "7   10810.151687497822 ± 538.0227499725719   \n",
      "8   10887.81206843923 ± 508.35806840542233   \n",
      "\n",
      "                          Pearson Correlation  \n",
      "0  0.027960309886588562 ± 0.07890750301279334  \n",
      "1    0.2785458039851244 ± 0.05017204028971221  \n",
      "2   0.22481395922938105 ± 0.08782066341236433  \n",
      "3    0.2804681198784552 ± 0.05309380210578591  \n",
      "4   0.26199373085301436 ± 0.03738662494582802  \n",
      "5      0.1610858179563726 ± 0.059717718794927  \n",
      "6   0.08137721305440933 ± 0.12253277254125534  \n",
      "7    0.1829471990308284 ± 0.10870479488837873  \n",
      "8   0.22804343885058143 ± 0.09233560504990852  \n"
     ]
    }
   ],
   "source": [
    "from xgboost import XGBRegressor\n",
    "from catboost import CatBoostRegressor\n",
    "from sklearn.model_selection import KFold, GridSearchCV\n",
    "from sklearn.linear_model import LinearRegression, Ridge, Lasso, ElasticNet\n",
    "from sklearn.svm import SVR\n",
    "from sklearn.preprocessing import Normalizer\n",
    "from sklearn.preprocessing import StandardScaler\n",
    "from sklearn.neighbors import KNeighborsRegressor\n",
    "from sklearn.tree import DecisionTreeRegressor\n",
    "from sklearn.feature_extraction.text import TfidfVectorizer\n",
    "from sklearn.pipeline import Pipeline\n",
    "from sklearn.metrics import mean_absolute_error, r2_score, mean_squared_error, root_mean_squared_error\n",
    "from scipy.stats import pearsonr\n",
    "\n",
    "\n",
    "# Definir os modelos com max_iter ajustado para Lasso\n",
    "models = [\n",
    "    ('Linear Regression', LinearRegression(), None),\n",
    "    ('Ridge Regression', Ridge(), {'regressor__alpha': [0.1, 1.0, 10.0, 100.0]}),\n",
    "    ('Lasso Regression', Lasso(max_iter=100000, tol=0.01), {'regressor__alpha': [0.0001, 0.001, 0.01, 0.1, 1.0, 10.0]}),\n",
    "    ('ElasticNet Regression', ElasticNet(max_iter=100000), {'regressor__alpha': [0.1, 1.0, 10.0, 100.0], 'regressor__l1_ratio': [0.1, 0.5, 0.9]}),\n",
    "    ('SVR', SVR(), {'regressor__C': [0.1, 1.0, 10.0], 'regressor__epsilon': [0.01, 0.1, 1.0]}),\n",
    "    ('KNN', KNeighborsRegressor(), {'regressor__n_neighbors': [3, 5, 7, 9]}),\n",
    "    ('Decision Tree', DecisionTreeRegressor(), {'regressor__max_depth': [None, 10, 20, 30]}),\n",
    "    ('XGBoost', XGBRegressor(), {'regressor__n_estimators': [100, 200], 'regressor__learning_rate': [0.01, 0.1, 0.3]}),\n",
    "    ('CatBoost', CatBoostRegressor(silent=True), {'regressor__iterations': [100, 200], 'regressor__learning_rate': [0.01, 0.1, 0.3]})\n",
    "]\n",
    "\n",
    "# Criando um pipeline com vetorização de texto, normalização e modelo de regressão\n",
    "pipeline = Pipeline([\n",
    "    ('tfidf', TfidfVectorizer(ngram_range=(1, 1), max_features=1_000)),\n",
    "    ('normalizer', Normalizer()),  # Normalizar os dados\n",
    "    ('regressor', None)\n",
    "])\n",
    "\n",
    "# Usando KFold para validação cruzada\n",
    "kf = KFold(n_splits=5, shuffle=True, random_state=42)\n",
    "\n",
    "# Dicionário para armazenar os resultados\n",
    "results = {\n",
    "    'Model': [],\n",
    "    'MAE': [],\n",
    "    'R2': [],\n",
    "    'RMSE': [],\n",
    "    'Pearson Correlation': []\n",
    "}\n",
    "\n",
    "# Avaliação dos modelos com as novas métricas\n",
    "for name, model, param_grid in models:\n",
    "    pipeline.set_params(regressor=model)\n",
    "    print(f\"\\nModel: {name}\")\n",
    "    regressor = None\n",
    "    if param_grid:\n",
    "        regressor = GridSearchCV(pipeline, param_grid, cv=5, scoring='neg_mean_squared_error')\n",
    "    else:\n",
    "        regressor = pipeline\n",
    "    list_maes_scores = []\n",
    "    list_r2_scores = []\n",
    "    list_rmse_scores = []\n",
    "    list_pearson_scores = []\n",
    "    for train_index, test_index in kf.split(filtered_descriptions):\n",
    "        X_train, X_test = filtered_descriptions[train_index], filtered_descriptions[test_index]\n",
    "        y_train, y_test = filtered_effort_estimations[train_index], filtered_effort_estimations[test_index]\n",
    "        regressor.fit(X_train, y_train)\n",
    "        y_pred = regressor.predict(X_test)\n",
    "        mae = mean_absolute_error(y_test, y_pred)\n",
    "        r2 = r2_score(y_test, y_pred)\n",
    "        mse = mean_squared_error(y_test, y_pred)\n",
    "        rmse = np.sqrt(mse)\n",
    "        try:\n",
    "            pearson_corr, _ = pearsonr(y_test, y_pred)\n",
    "        except Exception as e:\n",
    "            print(f\"Warning: {e}\")\n",
    "            pearson_corr = float('nan')\n",
    "        list_maes_scores.append(mae)\n",
    "        list_r2_scores.append(r2)\n",
    "        list_rmse_scores.append(rmse)\n",
    "        list_pearson_scores.append(pearson_corr)\n",
    "    results['Model'].append(name)\n",
    "    results['MAE'].append(f\"{np.mean(list_maes_scores)} ± {np.std(list_maes_scores)}\")\n",
    "    results['R2'].append(f\"{np.mean(list_r2_scores)} ± {np.std(list_r2_scores)}\")\n",
    "    results['RMSE'].append(f\"{np.mean(list_rmse_scores)} ± {np.std(list_rmse_scores)}\")\n",
    "    results['Pearson Correlation'].append(f\"{np.mean(list_pearson_scores)} ± {np.std(list_pearson_scores)}\")\n",
    "\n",
    "# Criar um DataFrame com os resultados\n",
    "results_df = pd.DataFrame(results)\n",
    "print(\"\\nResultados:\")\n",
    "print(results_df)\n"
   ]
  },
  {
   "cell_type": "code",
   "execution_count": 26,
   "metadata": {},
   "outputs": [
    {
     "data": {
      "text/html": [
       "<div>\n",
       "<style scoped>\n",
       "    .dataframe tbody tr th:only-of-type {\n",
       "        vertical-align: middle;\n",
       "    }\n",
       "\n",
       "    .dataframe tbody tr th {\n",
       "        vertical-align: top;\n",
       "    }\n",
       "\n",
       "    .dataframe thead th {\n",
       "        text-align: right;\n",
       "    }\n",
       "</style>\n",
       "<table border=\"1\" class=\"dataframe\">\n",
       "  <thead>\n",
       "    <tr style=\"text-align: right;\">\n",
       "      <th></th>\n",
       "      <th>Model</th>\n",
       "      <th>MAE</th>\n",
       "      <th>R2</th>\n",
       "      <th>RMSE</th>\n",
       "      <th>Pearson Correlation</th>\n",
       "    </tr>\n",
       "  </thead>\n",
       "  <tbody>\n",
       "    <tr>\n",
       "      <th>0</th>\n",
       "      <td>Linear Regression</td>\n",
       "      <td>46677.30314636153 ± 2877.313114396741</td>\n",
       "      <td>-32.34425592805424 ± 6.884827071412777</td>\n",
       "      <td>63017.37139075155 ± 4885.718582860105</td>\n",
       "      <td>0.027960309886588562 ± 0.07890750301279334</td>\n",
       "    </tr>\n",
       "    <tr>\n",
       "      <th>1</th>\n",
       "      <td>Ridge Regression</td>\n",
       "      <td>7972.683613593962 ± 353.53170218199756</td>\n",
       "      <td>0.05655913743211605 ± 0.012517131569159495</td>\n",
       "      <td>10682.61965514458 ± 492.8648259406298</td>\n",
       "      <td>0.2785458039851244 ± 0.05017204028971221</td>\n",
       "    </tr>\n",
       "    <tr>\n",
       "      <th>2</th>\n",
       "      <td>Lasso Regression</td>\n",
       "      <td>8353.034071026485 ± 575.7440601212669</td>\n",
       "      <td>-0.021037664737553908 ± 0.09425135196986602</td>\n",
       "      <td>11099.229387000309 ± 675.8374873838483</td>\n",
       "      <td>0.22481395922938105 ± 0.08782066341236433</td>\n",
       "    </tr>\n",
       "    <tr>\n",
       "      <th>3</th>\n",
       "      <td>ElasticNet Regression</td>\n",
       "      <td>7964.6467739958225 ± 353.3141210729667</td>\n",
       "      <td>0.06288200620515934 ± 0.015546553301776693</td>\n",
       "      <td>10646.66640838196 ± 494.3608339470568</td>\n",
       "      <td>0.2804681198784552 ± 0.05309380210578591</td>\n",
       "    </tr>\n",
       "    <tr>\n",
       "      <th>4</th>\n",
       "      <td>SVR</td>\n",
       "      <td>7738.253015480691 ± 381.1328722769058</td>\n",
       "      <td>-0.007954989935099955 ± 0.0035544443635493294</td>\n",
       "      <td>11041.828678276199 ± 501.35195539716324</td>\n",
       "      <td>0.26199373085301436 ± 0.03738662494582802</td>\n",
       "    </tr>\n",
       "    <tr>\n",
       "      <th>5</th>\n",
       "      <td>KNN</td>\n",
       "      <td>8274.40532022862 ± 444.4558635847075</td>\n",
       "      <td>-0.0338847410204113 ± 0.04596351415252337</td>\n",
       "      <td>11188.510013306575 ± 713.3741356280952</td>\n",
       "      <td>0.1610858179563726 ± 0.059717718794927</td>\n",
       "    </tr>\n",
       "    <tr>\n",
       "      <th>6</th>\n",
       "      <td>Decision Tree</td>\n",
       "      <td>8979.35428530761 ± 624.268297074843</td>\n",
       "      <td>-0.30249122351597313 ± 0.11486754069973845</td>\n",
       "      <td>12538.057467937713 ± 749.9450305398758</td>\n",
       "      <td>0.08137721305440933 ± 0.12253277254125534</td>\n",
       "    </tr>\n",
       "    <tr>\n",
       "      <th>7</th>\n",
       "      <td>XGBoost</td>\n",
       "      <td>7933.835216770689 ± 418.51154410933566</td>\n",
       "      <td>0.033502045992743645 ± 0.040731183519058196</td>\n",
       "      <td>10810.151687497822 ± 538.0227499725719</td>\n",
       "      <td>0.1829471990308284 ± 0.10870479488837873</td>\n",
       "    </tr>\n",
       "    <tr>\n",
       "      <th>8</th>\n",
       "      <td>CatBoost</td>\n",
       "      <td>8090.1618148458265 ± 438.01844334717276</td>\n",
       "      <td>0.019556995913885888 ± 0.033760656166751245</td>\n",
       "      <td>10887.81206843923 ± 508.35806840542233</td>\n",
       "      <td>0.22804343885058143 ± 0.09233560504990852</td>\n",
       "    </tr>\n",
       "  </tbody>\n",
       "</table>\n",
       "</div>"
      ],
      "text/plain": [
       "                   Model                                      MAE  \\\n",
       "0      Linear Regression    46677.30314636153 ± 2877.313114396741   \n",
       "1       Ridge Regression   7972.683613593962 ± 353.53170218199756   \n",
       "2       Lasso Regression    8353.034071026485 ± 575.7440601212669   \n",
       "3  ElasticNet Regression   7964.6467739958225 ± 353.3141210729667   \n",
       "4                    SVR    7738.253015480691 ± 381.1328722769058   \n",
       "5                    KNN     8274.40532022862 ± 444.4558635847075   \n",
       "6          Decision Tree      8979.35428530761 ± 624.268297074843   \n",
       "7                XGBoost   7933.835216770689 ± 418.51154410933566   \n",
       "8               CatBoost  8090.1618148458265 ± 438.01844334717276   \n",
       "\n",
       "                                              R2  \\\n",
       "0         -32.34425592805424 ± 6.884827071412777   \n",
       "1     0.05655913743211605 ± 0.012517131569159495   \n",
       "2    -0.021037664737553908 ± 0.09425135196986602   \n",
       "3     0.06288200620515934 ± 0.015546553301776693   \n",
       "4  -0.007954989935099955 ± 0.0035544443635493294   \n",
       "5      -0.0338847410204113 ± 0.04596351415252337   \n",
       "6     -0.30249122351597313 ± 0.11486754069973845   \n",
       "7    0.033502045992743645 ± 0.040731183519058196   \n",
       "8    0.019556995913885888 ± 0.033760656166751245   \n",
       "\n",
       "                                      RMSE  \\\n",
       "0    63017.37139075155 ± 4885.718582860105   \n",
       "1    10682.61965514458 ± 492.8648259406298   \n",
       "2   11099.229387000309 ± 675.8374873838483   \n",
       "3    10646.66640838196 ± 494.3608339470568   \n",
       "4  11041.828678276199 ± 501.35195539716324   \n",
       "5   11188.510013306575 ± 713.3741356280952   \n",
       "6   12538.057467937713 ± 749.9450305398758   \n",
       "7   10810.151687497822 ± 538.0227499725719   \n",
       "8   10887.81206843923 ± 508.35806840542233   \n",
       "\n",
       "                          Pearson Correlation  \n",
       "0  0.027960309886588562 ± 0.07890750301279334  \n",
       "1    0.2785458039851244 ± 0.05017204028971221  \n",
       "2   0.22481395922938105 ± 0.08782066341236433  \n",
       "3    0.2804681198784552 ± 0.05309380210578591  \n",
       "4   0.26199373085301436 ± 0.03738662494582802  \n",
       "5      0.1610858179563726 ± 0.059717718794927  \n",
       "6   0.08137721305440933 ± 0.12253277254125534  \n",
       "7    0.1829471990308284 ± 0.10870479488837873  \n",
       "8   0.22804343885058143 ± 0.09233560504990852  "
      ]
     },
     "execution_count": 26,
     "metadata": {},
     "output_type": "execute_result"
    }
   ],
   "source": [
    "results_df.head(10)"
   ]
  }
 ],
 "metadata": {
  "kernelspec": {
   "display_name": "myenv",
   "language": "python",
   "name": "python3"
  },
  "language_info": {
   "codemirror_mode": {
    "name": "ipython",
    "version": 3
   },
   "file_extension": ".py",
   "mimetype": "text/x-python",
   "name": "python",
   "nbconvert_exporter": "python",
   "pygments_lexer": "ipython3",
   "version": "3.9.1"
  }
 },
 "nbformat": 4,
 "nbformat_minor": 2
}
